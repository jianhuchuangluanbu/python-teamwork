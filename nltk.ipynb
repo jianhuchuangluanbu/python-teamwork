{
 "cells": [
  {
   "cell_type": "code",
   "execution_count": null,
   "id": "initial_id",
   "metadata": {
    "collapsed": true
   },
   "outputs": [],
   "source": [
    ""
   ]
  },
  {
   "metadata": {},
   "cell_type": "markdown",
   "source": "第二部分 ",
   "id": "a31abb6eb0d1c2ab"
  },
  {
   "metadata": {},
   "cell_type": "markdown",
   "source": [
    "介绍NLTK 中的 nltk.corpus 模块\n",
    "\n",
    "nltk.corpus 模块主要用于访问和处理各种语料库（corpora）。语料库是文本和语言数据的集合，用于语言学研究、开发和评估自然语言处理（NLP）系统。nltk.corpus 模块提供了许多常见语言资源的接口，使得开发者可以方便地获取和使用这些资源。\n"
   ],
   "id": "598e00ca69238196"
  },
  {
   "metadata": {},
   "cell_type": "markdown",
   "source": [
    "1. stopwords\n",
    "\n",
    "stopwords 方法提供了常见的停用词列表，可以帮助在文本预处理阶段去除无意义的词语。"
   ],
   "id": "db56ae0070961b76"
  },
  {
   "metadata": {
    "ExecuteTime": {
     "end_time": "2024-06-14T08:46:00.522772Z",
     "start_time": "2024-06-14T08:45:58.638850Z"
    }
   },
   "cell_type": "code",
   "source": [
    "import nltk\n",
    "nltk.data.path.append('C:\\\\mini\\\\envs\\\\cl-43\\\\nltk_data')\n",
    "nltk.download('stopwords')"
   ],
   "id": "86c33b80ce0e6681",
   "outputs": [
    {
     "name": "stderr",
     "output_type": "stream",
     "text": [
      "[nltk_data] Downloading package stopwords to\n",
      "[nltk_data]     C:\\Users\\86182\\AppData\\Roaming\\nltk_data...\n",
      "[nltk_data]   Unzipping corpora\\stopwords.zip.\n"
     ]
    },
    {
     "data": {
      "text/plain": [
       "True"
      ]
     },
     "execution_count": 3,
     "metadata": {},
     "output_type": "execute_result"
    }
   ],
   "execution_count": 3
  },
  {
   "metadata": {
    "ExecuteTime": {
     "end_time": "2024-06-14T08:46:04.951608Z",
     "start_time": "2024-06-14T08:46:04.931597Z"
    }
   },
   "cell_type": "code",
   "source": [
    "import nltk\n",
    "from nltk.corpus import stopwords\n",
    "\n",
    "# 加载英语停用词\n",
    "stop_words = set(stopwords.words('english'))\n",
    "\n",
    "# 打印停用词列表\n",
    "print(stop_words)"
   ],
   "id": "bb40198cc63760b9",
   "outputs": [
    {
     "name": "stdout",
     "output_type": "stream",
     "text": [
      "{'s', \"shan't\", \"you've\", 'these', 'shouldn', \"shouldn't\", 'them', 'had', 'over', 'him', \"that'll\", 'i', 'up', 'yourselves', 'more', 'weren', 'how', 've', 'do', 'after', 'can', 'mightn', 'doing', 'down', \"couldn't\", 'where', 'mustn', \"weren't\", 'theirs', \"should've\", 'myself', 'didn', 'there', 'yourself', \"aren't\", \"didn't\", 'they', 'as', 'ours', 'off', 'don', 'most', 'is', 'me', 'during', 'before', 'from', 'won', 'herself', 'for', 'which', 'you', 'by', 'only', 'at', 't', \"you're\", 'few', 'all', \"hasn't\", 'their', 'then', 'been', 'our', 'very', 'have', 'ma', 'y', 'same', 'couldn', \"doesn't\", 'wasn', 'not', 'its', 'against', 'am', 'too', 'further', 'here', 'doesn', 'hers', 'should', 'ain', 'or', 'having', 'the', 'other', 'who', 'm', 'above', \"isn't\", 'until', 'under', 'about', 'does', 'were', 'isn', 'into', 'if', 'be', 'through', 'both', \"mustn't\", 'my', 'was', 'his', 'some', 'now', \"mightn't\", 'such', 'd', 'but', 'because', 'when', 'will', 'wouldn', 'an', 'this', 'ourselves', 'your', 'and', \"wasn't\", 'while', 're', 'that', 'her', 'being', 'a', 'we', 'she', 'hasn', 'did', 'those', 'll', 'any', 'once', 'nor', 'each', 'hadn', 'on', 'out', \"don't\", 'aren', 'between', 'haven', 'has', \"she's\", 'yours', \"you'll\", 'himself', 'it', 'why', 'so', 'needn', \"needn't\", \"hadn't\", 'of', 'what', 'with', 'to', 'own', 'shan', 'are', \"wouldn't\", 'no', 'again', 'than', \"won't\", 'in', 'itself', \"haven't\", 'themselves', 'just', 'whom', 'o', \"you'd\", \"it's\", 'below', 'he'}\n"
     ]
    }
   ],
   "execution_count": 4
  },
  {
   "metadata": {},
   "cell_type": "markdown",
   "source": "测试用例",
   "id": "bf9c4f283704f038"
  },
  {
   "metadata": {},
   "cell_type": "markdown",
   "source": "验证列表长度：",
   "id": "2fa1b39929c94198"
  },
  {
   "metadata": {
    "ExecuteTime": {
     "end_time": "2024-06-14T09:06:14.570156Z",
     "start_time": "2024-06-14T09:06:14.529596Z"
    }
   },
   "cell_type": "code",
   "source": "assert len(stop_words) > 100, \"Expected more than 100 stopwords\"",
   "id": "21759f5303369c6f",
   "outputs": [],
   "execution_count": 12
  },
  {
   "metadata": {},
   "cell_type": "markdown",
   "source": "验证是否包含常见的停用词：",
   "id": "6680c68b018aa042"
  },
  {
   "metadata": {
    "ExecuteTime": {
     "end_time": "2024-06-14T09:06:27.701365Z",
     "start_time": "2024-06-14T09:06:27.693308Z"
    }
   },
   "cell_type": "code",
   "source": [
    "assert 'is' in stop_words, \"'is' should be in stopwords\"\n",
    "assert 'from' in stop_words, \"'from' should be in stopwords\"\n"
   ],
   "id": "cdc4f0fa48f89820",
   "outputs": [],
   "execution_count": 14
  },
  {
   "metadata": {},
   "cell_type": "markdown",
   "source": "验证是否不包含罕见的词语：",
   "id": "278bdddd4fe2890e"
  },
  {
   "metadata": {
    "ExecuteTime": {
     "end_time": "2024-06-14T09:06:26.322913Z",
     "start_time": "2024-06-14T09:06:26.312779Z"
    }
   },
   "cell_type": "code",
   "source": "assert 'conundrum' not in stop_words, \"'conundrum' should not be in stopwords\"",
   "id": "7caad82e5fb0fd0",
   "outputs": [],
   "execution_count": 13
  },
  {
   "metadata": {},
   "cell_type": "markdown",
   "source": "",
   "id": "a86d8190924b2072"
  },
  {
   "metadata": {},
   "cell_type": "markdown",
   "source": [
    "2. wordnet\n",
    "\n",
    "wordnet 是一个英语词汇数据库，包含了大量的同义词集合（synsets）和词语之间的语义关系。"
   ],
   "id": "fcec5a780d7a2032"
  },
  {
   "metadata": {
    "ExecuteTime": {
     "end_time": "2024-06-14T09:27:22.621267Z",
     "start_time": "2024-06-14T09:27:17.552555Z"
    }
   },
   "cell_type": "code",
   "source": [
    "import nltk\n",
    "nltk.download('wordnet')\n"
   ],
   "id": "7d13d32b13015b31",
   "outputs": [
    {
     "name": "stderr",
     "output_type": "stream",
     "text": [
      "[nltk_data] Downloading package wordnet to\n",
      "[nltk_data]     C:\\Users\\86182\\AppData\\Roaming\\nltk_data...\n",
      "[nltk_data] Error downloading 'wordnet' from\n",
      "[nltk_data]     <https://raw.githubusercontent.com/nltk/nltk_data/gh-\n",
      "[nltk_data]     pages/packages/corpora/wordnet.zip>:   <urlopen error\n",
      "[nltk_data]     [Errno 2] No such file or directory>\n"
     ]
    },
    {
     "data": {
      "text/plain": [
       "False"
      ]
     },
     "execution_count": 45,
     "metadata": {},
     "output_type": "execute_result"
    }
   ],
   "execution_count": 45
  },
  {
   "metadata": {
    "ExecuteTime": {
     "end_time": "2024-06-14T09:23:10.191716Z",
     "start_time": "2024-06-14T09:23:10.101016Z"
    }
   },
   "cell_type": "code",
   "source": [
    "from nltk.corpus import wordnet\n",
    "\n",
    "# 查找单词的同义词集合\n",
    "synsets = wordnet.synsets('car')\n",
    "for synset in synsets:\n",
    "    print(synset.name(), ':', synset.definition())"
   ],
   "id": "7bf6d750ce50bdb2",
   "outputs": [
    {
     "ename": "LookupError",
     "evalue": "\n**********************************************************************\n  Resource \u001B[93mwordnet\u001B[0m not found.\n  Please use the NLTK Downloader to obtain the resource:\n\n  \u001B[31m>>> import nltk\n  >>> nltk.download('wordnet')\n  \u001B[0m\n  For more information see: https://www.nltk.org/data.html\n\n  Attempted to load \u001B[93mcorpora/wordnet\u001B[0m\n\n  Searched in:\n    - 'C:\\\\Users\\\\86182/nltk_data'\n    - 'C:\\\\mini\\\\envs\\\\cl-43\\\\nltk_data'\n    - 'C:\\\\mini\\\\envs\\\\cl-43\\\\share\\\\nltk_data'\n    - 'C:\\\\mini\\\\envs\\\\cl-43\\\\lib\\\\nltk_data'\n    - 'C:\\\\Users\\\\86182\\\\AppData\\\\Roaming\\\\nltk_data'\n    - 'C:\\\\nltk_data'\n    - 'D:\\\\nltk_data'\n    - 'E:\\\\nltk_data'\n    - 'C:\\\\Users\\\\86182\\\\nltk_data'\n    - 'C:\\\\mini\\\\envs\\\\cl-43\\\\nltk_data'\n    - 'C:\\\\mini\\\\envs\\\\cl-43\\\\nltk_data'\n    - 'C:\\\\mini\\\\envs\\\\cl-43\\\\nltk_data'\n    - 'C:\\\\mini\\\\envs\\\\cl-43\\\\nltk_data'\n    - 'C:\\\\mini\\\\envs\\\\cl-43\\\\nltk_data'\n    - 'C:\\\\Users\\\\86182\\\\AppData\\\\Roaming\\\\nltk_data'\n    - 'C:\\\\Users\\\\86182\\\\AppData\\\\Roaming\\\\nltk_data'\n    - 'C:\\\\Users\\\\86182\\\\AppData\\\\Roaming\\\\nltk_data'\n    - 'C:\\\\Users\\\\86182\\\\AppData\\\\Roaming\\\\nltk_data'\n    - 'C:\\\\mini\\\\envs\\\\cl-43\\\\nltk_data'\n    - 'C:\\\\mini\\\\envs\\\\cl-43\\\\nltk_data'\n    - 'C:\\\\mini\\\\envs\\\\cl-43\\\\nltk_data'\n    - 'C:\\\\mini\\\\envs\\\\cl-43\\\\nltk_data'\n    - 'C:\\\\Users\\\\86182\\\\AppData\\\\Roaming\\\\nltk_data'\n**********************************************************************\n",
     "output_type": "error",
     "traceback": [
      "\u001B[1;31m---------------------------------------------------------------------------\u001B[0m",
      "\u001B[1;31mLookupError\u001B[0m                               Traceback (most recent call last)",
      "File \u001B[1;32mC:\\mini\\envs\\cl-43\\lib\\site-packages\\nltk\\corpus\\util.py:84\u001B[0m, in \u001B[0;36mLazyCorpusLoader.__load\u001B[1;34m(self)\u001B[0m\n\u001B[0;32m     83\u001B[0m \u001B[38;5;28;01mtry\u001B[39;00m:\n\u001B[1;32m---> 84\u001B[0m     root \u001B[38;5;241m=\u001B[39m \u001B[43mnltk\u001B[49m\u001B[38;5;241;43m.\u001B[39;49m\u001B[43mdata\u001B[49m\u001B[38;5;241;43m.\u001B[39;49m\u001B[43mfind\u001B[49m\u001B[43m(\u001B[49m\u001B[38;5;124;43mf\u001B[39;49m\u001B[38;5;124;43m\"\u001B[39;49m\u001B[38;5;132;43;01m{\u001B[39;49;00m\u001B[38;5;28;43mself\u001B[39;49m\u001B[38;5;241;43m.\u001B[39;49m\u001B[43msubdir\u001B[49m\u001B[38;5;132;43;01m}\u001B[39;49;00m\u001B[38;5;124;43m/\u001B[39;49m\u001B[38;5;132;43;01m{\u001B[39;49;00m\u001B[43mzip_name\u001B[49m\u001B[38;5;132;43;01m}\u001B[39;49;00m\u001B[38;5;124;43m\"\u001B[39;49m\u001B[43m)\u001B[49m\n\u001B[0;32m     85\u001B[0m \u001B[38;5;28;01mexcept\u001B[39;00m \u001B[38;5;167;01mLookupError\u001B[39;00m:\n",
      "File \u001B[1;32mC:\\mini\\envs\\cl-43\\lib\\site-packages\\nltk\\data.py:583\u001B[0m, in \u001B[0;36mfind\u001B[1;34m(resource_name, paths)\u001B[0m\n\u001B[0;32m    582\u001B[0m resource_not_found \u001B[38;5;241m=\u001B[39m \u001B[38;5;124mf\u001B[39m\u001B[38;5;124m\"\u001B[39m\u001B[38;5;130;01m\\n\u001B[39;00m\u001B[38;5;132;01m{\u001B[39;00msep\u001B[38;5;132;01m}\u001B[39;00m\u001B[38;5;130;01m\\n\u001B[39;00m\u001B[38;5;132;01m{\u001B[39;00mmsg\u001B[38;5;132;01m}\u001B[39;00m\u001B[38;5;130;01m\\n\u001B[39;00m\u001B[38;5;132;01m{\u001B[39;00msep\u001B[38;5;132;01m}\u001B[39;00m\u001B[38;5;130;01m\\n\u001B[39;00m\u001B[38;5;124m\"\u001B[39m\n\u001B[1;32m--> 583\u001B[0m \u001B[38;5;28;01mraise\u001B[39;00m \u001B[38;5;167;01mLookupError\u001B[39;00m(resource_not_found)\n",
      "\u001B[1;31mLookupError\u001B[0m: \n**********************************************************************\n  Resource \u001B[93mwordnet\u001B[0m not found.\n  Please use the NLTK Downloader to obtain the resource:\n\n  \u001B[31m>>> import nltk\n  >>> nltk.download('wordnet')\n  \u001B[0m\n  For more information see: https://www.nltk.org/data.html\n\n  Attempted to load \u001B[93mcorpora/wordnet.zip/wordnet/\u001B[0m\n\n  Searched in:\n    - 'C:\\\\Users\\\\86182/nltk_data'\n    - 'C:\\\\mini\\\\envs\\\\cl-43\\\\nltk_data'\n    - 'C:\\\\mini\\\\envs\\\\cl-43\\\\share\\\\nltk_data'\n    - 'C:\\\\mini\\\\envs\\\\cl-43\\\\lib\\\\nltk_data'\n    - 'C:\\\\Users\\\\86182\\\\AppData\\\\Roaming\\\\nltk_data'\n    - 'C:\\\\nltk_data'\n    - 'D:\\\\nltk_data'\n    - 'E:\\\\nltk_data'\n    - 'C:\\\\Users\\\\86182\\\\nltk_data'\n    - 'C:\\\\mini\\\\envs\\\\cl-43\\\\nltk_data'\n    - 'C:\\\\mini\\\\envs\\\\cl-43\\\\nltk_data'\n    - 'C:\\\\mini\\\\envs\\\\cl-43\\\\nltk_data'\n    - 'C:\\\\mini\\\\envs\\\\cl-43\\\\nltk_data'\n    - 'C:\\\\mini\\\\envs\\\\cl-43\\\\nltk_data'\n    - 'C:\\\\Users\\\\86182\\\\AppData\\\\Roaming\\\\nltk_data'\n    - 'C:\\\\Users\\\\86182\\\\AppData\\\\Roaming\\\\nltk_data'\n    - 'C:\\\\Users\\\\86182\\\\AppData\\\\Roaming\\\\nltk_data'\n    - 'C:\\\\Users\\\\86182\\\\AppData\\\\Roaming\\\\nltk_data'\n    - 'C:\\\\mini\\\\envs\\\\cl-43\\\\nltk_data'\n    - 'C:\\\\mini\\\\envs\\\\cl-43\\\\nltk_data'\n    - 'C:\\\\mini\\\\envs\\\\cl-43\\\\nltk_data'\n    - 'C:\\\\mini\\\\envs\\\\cl-43\\\\nltk_data'\n    - 'C:\\\\Users\\\\86182\\\\AppData\\\\Roaming\\\\nltk_data'\n**********************************************************************\n",
      "\nDuring handling of the above exception, another exception occurred:\n",
      "\u001B[1;31mLookupError\u001B[0m                               Traceback (most recent call last)",
      "Cell \u001B[1;32mIn[38], line 4\u001B[0m\n\u001B[0;32m      1\u001B[0m \u001B[38;5;28;01mfrom\u001B[39;00m \u001B[38;5;21;01mnltk\u001B[39;00m\u001B[38;5;21;01m.\u001B[39;00m\u001B[38;5;21;01mcorpus\u001B[39;00m \u001B[38;5;28;01mimport\u001B[39;00m wordnet\n\u001B[0;32m      3\u001B[0m \u001B[38;5;66;03m# 查找单词的同义词集合\u001B[39;00m\n\u001B[1;32m----> 4\u001B[0m synsets \u001B[38;5;241m=\u001B[39m \u001B[43mwordnet\u001B[49m\u001B[38;5;241;43m.\u001B[39;49m\u001B[43msynsets\u001B[49m(\u001B[38;5;124m'\u001B[39m\u001B[38;5;124mcar\u001B[39m\u001B[38;5;124m'\u001B[39m)\n\u001B[0;32m      5\u001B[0m \u001B[38;5;28;01mfor\u001B[39;00m synset \u001B[38;5;129;01min\u001B[39;00m synsets:\n\u001B[0;32m      6\u001B[0m     \u001B[38;5;28mprint\u001B[39m(synset\u001B[38;5;241m.\u001B[39mname(), \u001B[38;5;124m'\u001B[39m\u001B[38;5;124m:\u001B[39m\u001B[38;5;124m'\u001B[39m, synset\u001B[38;5;241m.\u001B[39mdefinition())\n",
      "File \u001B[1;32mC:\\mini\\envs\\cl-43\\lib\\site-packages\\nltk\\corpus\\util.py:121\u001B[0m, in \u001B[0;36mLazyCorpusLoader.__getattr__\u001B[1;34m(self, attr)\u001B[0m\n\u001B[0;32m    118\u001B[0m \u001B[38;5;28;01mif\u001B[39;00m attr \u001B[38;5;241m==\u001B[39m \u001B[38;5;124m\"\u001B[39m\u001B[38;5;124m__bases__\u001B[39m\u001B[38;5;124m\"\u001B[39m:\n\u001B[0;32m    119\u001B[0m     \u001B[38;5;28;01mraise\u001B[39;00m \u001B[38;5;167;01mAttributeError\u001B[39;00m(\u001B[38;5;124m\"\u001B[39m\u001B[38;5;124mLazyCorpusLoader object has no attribute \u001B[39m\u001B[38;5;124m'\u001B[39m\u001B[38;5;124m__bases__\u001B[39m\u001B[38;5;124m'\u001B[39m\u001B[38;5;124m\"\u001B[39m)\n\u001B[1;32m--> 121\u001B[0m \u001B[38;5;28;43mself\u001B[39;49m\u001B[38;5;241;43m.\u001B[39;49m\u001B[43m__load\u001B[49m\u001B[43m(\u001B[49m\u001B[43m)\u001B[49m\n\u001B[0;32m    122\u001B[0m \u001B[38;5;66;03m# This looks circular, but its not, since __load() changes our\u001B[39;00m\n\u001B[0;32m    123\u001B[0m \u001B[38;5;66;03m# __class__ to something new:\u001B[39;00m\n\u001B[0;32m    124\u001B[0m \u001B[38;5;28;01mreturn\u001B[39;00m \u001B[38;5;28mgetattr\u001B[39m(\u001B[38;5;28mself\u001B[39m, attr)\n",
      "File \u001B[1;32mC:\\mini\\envs\\cl-43\\lib\\site-packages\\nltk\\corpus\\util.py:86\u001B[0m, in \u001B[0;36mLazyCorpusLoader.__load\u001B[1;34m(self)\u001B[0m\n\u001B[0;32m     84\u001B[0m             root \u001B[38;5;241m=\u001B[39m nltk\u001B[38;5;241m.\u001B[39mdata\u001B[38;5;241m.\u001B[39mfind(\u001B[38;5;124mf\u001B[39m\u001B[38;5;124m\"\u001B[39m\u001B[38;5;132;01m{\u001B[39;00m\u001B[38;5;28mself\u001B[39m\u001B[38;5;241m.\u001B[39msubdir\u001B[38;5;132;01m}\u001B[39;00m\u001B[38;5;124m/\u001B[39m\u001B[38;5;132;01m{\u001B[39;00mzip_name\u001B[38;5;132;01m}\u001B[39;00m\u001B[38;5;124m\"\u001B[39m)\n\u001B[0;32m     85\u001B[0m         \u001B[38;5;28;01mexcept\u001B[39;00m \u001B[38;5;167;01mLookupError\u001B[39;00m:\n\u001B[1;32m---> 86\u001B[0m             \u001B[38;5;28;01mraise\u001B[39;00m e\n\u001B[0;32m     88\u001B[0m \u001B[38;5;66;03m# Load the corpus.\u001B[39;00m\n\u001B[0;32m     89\u001B[0m corpus \u001B[38;5;241m=\u001B[39m \u001B[38;5;28mself\u001B[39m\u001B[38;5;241m.\u001B[39m__reader_cls(root, \u001B[38;5;241m*\u001B[39m\u001B[38;5;28mself\u001B[39m\u001B[38;5;241m.\u001B[39m__args, \u001B[38;5;241m*\u001B[39m\u001B[38;5;241m*\u001B[39m\u001B[38;5;28mself\u001B[39m\u001B[38;5;241m.\u001B[39m__kwargs)\n",
      "File \u001B[1;32mC:\\mini\\envs\\cl-43\\lib\\site-packages\\nltk\\corpus\\util.py:81\u001B[0m, in \u001B[0;36mLazyCorpusLoader.__load\u001B[1;34m(self)\u001B[0m\n\u001B[0;32m     79\u001B[0m \u001B[38;5;28;01melse\u001B[39;00m:\n\u001B[0;32m     80\u001B[0m     \u001B[38;5;28;01mtry\u001B[39;00m:\n\u001B[1;32m---> 81\u001B[0m         root \u001B[38;5;241m=\u001B[39m \u001B[43mnltk\u001B[49m\u001B[38;5;241;43m.\u001B[39;49m\u001B[43mdata\u001B[49m\u001B[38;5;241;43m.\u001B[39;49m\u001B[43mfind\u001B[49m\u001B[43m(\u001B[49m\u001B[38;5;124;43mf\u001B[39;49m\u001B[38;5;124;43m\"\u001B[39;49m\u001B[38;5;132;43;01m{\u001B[39;49;00m\u001B[38;5;28;43mself\u001B[39;49m\u001B[38;5;241;43m.\u001B[39;49m\u001B[43msubdir\u001B[49m\u001B[38;5;132;43;01m}\u001B[39;49;00m\u001B[38;5;124;43m/\u001B[39;49m\u001B[38;5;132;43;01m{\u001B[39;49;00m\u001B[38;5;28;43mself\u001B[39;49m\u001B[38;5;241;43m.\u001B[39;49m\u001B[43m__name\u001B[49m\u001B[38;5;132;43;01m}\u001B[39;49;00m\u001B[38;5;124;43m\"\u001B[39;49m\u001B[43m)\u001B[49m\n\u001B[0;32m     82\u001B[0m     \u001B[38;5;28;01mexcept\u001B[39;00m \u001B[38;5;167;01mLookupError\u001B[39;00m \u001B[38;5;28;01mas\u001B[39;00m e:\n\u001B[0;32m     83\u001B[0m         \u001B[38;5;28;01mtry\u001B[39;00m:\n",
      "File \u001B[1;32mC:\\mini\\envs\\cl-43\\lib\\site-packages\\nltk\\data.py:583\u001B[0m, in \u001B[0;36mfind\u001B[1;34m(resource_name, paths)\u001B[0m\n\u001B[0;32m    581\u001B[0m sep \u001B[38;5;241m=\u001B[39m \u001B[38;5;124m\"\u001B[39m\u001B[38;5;124m*\u001B[39m\u001B[38;5;124m\"\u001B[39m \u001B[38;5;241m*\u001B[39m \u001B[38;5;241m70\u001B[39m\n\u001B[0;32m    582\u001B[0m resource_not_found \u001B[38;5;241m=\u001B[39m \u001B[38;5;124mf\u001B[39m\u001B[38;5;124m\"\u001B[39m\u001B[38;5;130;01m\\n\u001B[39;00m\u001B[38;5;132;01m{\u001B[39;00msep\u001B[38;5;132;01m}\u001B[39;00m\u001B[38;5;130;01m\\n\u001B[39;00m\u001B[38;5;132;01m{\u001B[39;00mmsg\u001B[38;5;132;01m}\u001B[39;00m\u001B[38;5;130;01m\\n\u001B[39;00m\u001B[38;5;132;01m{\u001B[39;00msep\u001B[38;5;132;01m}\u001B[39;00m\u001B[38;5;130;01m\\n\u001B[39;00m\u001B[38;5;124m\"\u001B[39m\n\u001B[1;32m--> 583\u001B[0m \u001B[38;5;28;01mraise\u001B[39;00m \u001B[38;5;167;01mLookupError\u001B[39;00m(resource_not_found)\n",
      "\u001B[1;31mLookupError\u001B[0m: \n**********************************************************************\n  Resource \u001B[93mwordnet\u001B[0m not found.\n  Please use the NLTK Downloader to obtain the resource:\n\n  \u001B[31m>>> import nltk\n  >>> nltk.download('wordnet')\n  \u001B[0m\n  For more information see: https://www.nltk.org/data.html\n\n  Attempted to load \u001B[93mcorpora/wordnet\u001B[0m\n\n  Searched in:\n    - 'C:\\\\Users\\\\86182/nltk_data'\n    - 'C:\\\\mini\\\\envs\\\\cl-43\\\\nltk_data'\n    - 'C:\\\\mini\\\\envs\\\\cl-43\\\\share\\\\nltk_data'\n    - 'C:\\\\mini\\\\envs\\\\cl-43\\\\lib\\\\nltk_data'\n    - 'C:\\\\Users\\\\86182\\\\AppData\\\\Roaming\\\\nltk_data'\n    - 'C:\\\\nltk_data'\n    - 'D:\\\\nltk_data'\n    - 'E:\\\\nltk_data'\n    - 'C:\\\\Users\\\\86182\\\\nltk_data'\n    - 'C:\\\\mini\\\\envs\\\\cl-43\\\\nltk_data'\n    - 'C:\\\\mini\\\\envs\\\\cl-43\\\\nltk_data'\n    - 'C:\\\\mini\\\\envs\\\\cl-43\\\\nltk_data'\n    - 'C:\\\\mini\\\\envs\\\\cl-43\\\\nltk_data'\n    - 'C:\\\\mini\\\\envs\\\\cl-43\\\\nltk_data'\n    - 'C:\\\\Users\\\\86182\\\\AppData\\\\Roaming\\\\nltk_data'\n    - 'C:\\\\Users\\\\86182\\\\AppData\\\\Roaming\\\\nltk_data'\n    - 'C:\\\\Users\\\\86182\\\\AppData\\\\Roaming\\\\nltk_data'\n    - 'C:\\\\Users\\\\86182\\\\AppData\\\\Roaming\\\\nltk_data'\n    - 'C:\\\\mini\\\\envs\\\\cl-43\\\\nltk_data'\n    - 'C:\\\\mini\\\\envs\\\\cl-43\\\\nltk_data'\n    - 'C:\\\\mini\\\\envs\\\\cl-43\\\\nltk_data'\n    - 'C:\\\\mini\\\\envs\\\\cl-43\\\\nltk_data'\n    - 'C:\\\\Users\\\\86182\\\\AppData\\\\Roaming\\\\nltk_data'\n**********************************************************************\n"
     ]
    }
   ],
   "execution_count": 38
  },
  {
   "metadata": {},
   "cell_type": "markdown",
   "source": [
    "3. treebank\n",
    "\n",
    "treebank 是一个包含了已标注的英文句子语料库，用于训练和评估词性标注器和其他句法分析工具。"
   ],
   "id": "f50f785a285004b7"
  },
  {
   "metadata": {
    "ExecuteTime": {
     "end_time": "2024-06-14T09:25:02.004532Z",
     "start_time": "2024-06-14T09:24:59.821015Z"
    }
   },
   "cell_type": "code",
   "source": [
    "import nltk\n",
    "nltk.download('treebank')"
   ],
   "id": "4e933498de2fef90",
   "outputs": [
    {
     "name": "stderr",
     "output_type": "stream",
     "text": [
      "[nltk_data] Downloading package treebank to\n",
      "[nltk_data]     C:\\Users\\86182\\AppData\\Roaming\\nltk_data...\n",
      "[nltk_data]   Unzipping corpora\\treebank.zip.\n"
     ]
    },
    {
     "data": {
      "text/plain": [
       "True"
      ]
     },
     "execution_count": 41,
     "metadata": {},
     "output_type": "execute_result"
    }
   ],
   "execution_count": 41
  },
  {
   "metadata": {
    "ExecuteTime": {
     "end_time": "2024-06-14T09:25:04.611942Z",
     "start_time": "2024-06-14T09:25:04.551471Z"
    }
   },
   "cell_type": "code",
   "source": [
    "from nltk.corpus import treebank\n",
    "\n",
    "# 获取句子\n",
    "sentences = treebank.sents()\n",
    "print(sentences[0])"
   ],
   "id": "76484c6d890aa941",
   "outputs": [
    {
     "name": "stdout",
     "output_type": "stream",
     "text": [
      "['Pierre', 'Vinken', ',', '61', 'years', 'old', ',', 'will', 'join', 'the', 'board', 'as', 'a', 'nonexecutive', 'director', 'Nov.', '29', '.']\n"
     ]
    }
   ],
   "execution_count": 42
  },
  {
   "metadata": {},
   "cell_type": "markdown",
   "source": "测试用例",
   "id": "9034cb7024db10cd"
  },
  {
   "metadata": {},
   "cell_type": "markdown",
   "source": "验证是否成功加载了语料库中的句子：",
   "id": "237ca96879a44eee"
  },
  {
   "metadata": {
    "ExecuteTime": {
     "end_time": "2024-06-14T09:26:19.463696Z",
     "start_time": "2024-06-14T09:26:19.453696Z"
    }
   },
   "cell_type": "code",
   "source": "assert len(sentences) > 0, \"Expected sentences in treebank corpus\"\n",
   "id": "b11b168a6b1d88c3",
   "outputs": [],
   "execution_count": 43
  },
  {
   "metadata": {},
   "cell_type": "markdown",
   "source": "验证句子的格式是否正确：",
   "id": "ced4dec12b3626bd"
  },
  {
   "metadata": {
    "ExecuteTime": {
     "end_time": "2024-06-14T09:26:42.818602Z",
     "start_time": "2024-06-14T09:26:42.808591Z"
    }
   },
   "cell_type": "code",
   "source": "assert isinstance(sentences[0], list), \"Each sentence should be a list of tokens\"",
   "id": "19694da4467ce18e",
   "outputs": [],
   "execution_count": 44
  },
  {
   "metadata": {},
   "cell_type": "markdown",
   "source": [
    "4. brown\n",
    "\n",
    "brown 是一个经典的英语语料库，包含了不同类型的文本（新闻、社论、小说等）。"
   ],
   "id": "3de435131df13a93"
  },
  {
   "metadata": {
    "ExecuteTime": {
     "end_time": "2024-06-14T09:34:48.592163Z",
     "start_time": "2024-06-14T09:34:48.582163Z"
    }
   },
   "cell_type": "code",
   "source": [
    "import nltk\n",
    "nltk.data.path.append(\"C:\\学习\\python\\python-teamwork\\nltk_data\")\n"
   ],
   "id": "486f7223d0134b65",
   "outputs": [],
   "execution_count": 57
  },
  {
   "metadata": {
    "ExecuteTime": {
     "end_time": "2024-06-14T09:34:52.818186Z",
     "start_time": "2024-06-14T09:34:52.747816Z"
    }
   },
   "cell_type": "code",
   "source": [
    "from nltk.corpus import gutenberg\n",
    "\n",
    "# 获取文本\n",
    "text = gutenberg.raw('shakespeare-hamlet.txt')\n",
    "print(text[:500])"
   ],
   "id": "50942caa7e5735fa",
   "outputs": [
    {
     "ename": "LookupError",
     "evalue": "\n**********************************************************************\n  Resource \u001B[93mgutenberg\u001B[0m not found.\n  Please use the NLTK Downloader to obtain the resource:\n\n  \u001B[31m>>> import nltk\n  >>> nltk.download('gutenberg')\n  \u001B[0m\n  For more information see: https://www.nltk.org/data.html\n\n  Attempted to load \u001B[93mcorpora/gutenberg\u001B[0m\n\n  Searched in:\n    - 'C:\\\\Users\\\\86182/nltk_data'\n    - 'C:\\\\mini\\\\envs\\\\cl-43\\\\nltk_data'\n    - 'C:\\\\mini\\\\envs\\\\cl-43\\\\share\\\\nltk_data'\n    - 'C:\\\\mini\\\\envs\\\\cl-43\\\\lib\\\\nltk_data'\n    - 'C:\\\\Users\\\\86182\\\\AppData\\\\Roaming\\\\nltk_data'\n    - 'C:\\\\nltk_data'\n    - 'D:\\\\nltk_data'\n    - 'E:\\\\nltk_data'\n    - 'C:\\\\Users\\\\86182\\\\nltk_data'\n    - 'C:\\\\mini\\\\envs\\\\cl-43\\\\nltk_data'\n    - 'C:\\\\mini\\\\envs\\\\cl-43\\\\nltk_data'\n    - 'C:\\\\mini\\\\envs\\\\cl-43\\\\nltk_data'\n    - 'C:\\\\mini\\\\envs\\\\cl-43\\\\nltk_data'\n    - 'C:\\\\mini\\\\envs\\\\cl-43\\\\nltk_data'\n    - 'C:\\\\Users\\\\86182\\\\AppData\\\\Roaming\\\\nltk_data'\n    - 'C:\\\\Users\\\\86182\\\\AppData\\\\Roaming\\\\nltk_data'\n    - 'C:\\\\Users\\\\86182\\\\AppData\\\\Roaming\\\\nltk_data'\n    - 'C:\\\\Users\\\\86182\\\\AppData\\\\Roaming\\\\nltk_data'\n    - 'C:\\\\mini\\\\envs\\\\cl-43\\\\nltk_data'\n    - 'C:\\\\mini\\\\envs\\\\cl-43\\\\nltk_data'\n    - 'C:\\\\mini\\\\envs\\\\cl-43\\\\nltk_data'\n    - 'C:\\\\mini\\\\envs\\\\cl-43\\\\nltk_data'\n    - 'C:\\\\Users\\\\86182\\\\AppData\\\\Roaming\\\\nltk_data'\n    - 'C:\\\\mini\\\\envs\\\\cl-43\\\\nltk_data'\n    - 'C:\\\\学习\\\\python\\\\python-teamwork\\nltk_data\\\\gutenberg'\n    - 'C:\\\\学习\\\\python\\\\python-teamwork\\nltk_data'\n    - 'C:\\\\学习\\\\python\\\\python-teamwork\\nltk_data'\n**********************************************************************\n",
     "output_type": "error",
     "traceback": [
      "\u001B[1;31m---------------------------------------------------------------------------\u001B[0m",
      "\u001B[1;31mLookupError\u001B[0m                               Traceback (most recent call last)",
      "File \u001B[1;32mC:\\mini\\envs\\cl-43\\lib\\site-packages\\nltk\\corpus\\util.py:84\u001B[0m, in \u001B[0;36mLazyCorpusLoader.__load\u001B[1;34m(self)\u001B[0m\n\u001B[0;32m     83\u001B[0m \u001B[38;5;28;01mtry\u001B[39;00m:\n\u001B[1;32m---> 84\u001B[0m     root \u001B[38;5;241m=\u001B[39m \u001B[43mnltk\u001B[49m\u001B[38;5;241;43m.\u001B[39;49m\u001B[43mdata\u001B[49m\u001B[38;5;241;43m.\u001B[39;49m\u001B[43mfind\u001B[49m\u001B[43m(\u001B[49m\u001B[38;5;124;43mf\u001B[39;49m\u001B[38;5;124;43m\"\u001B[39;49m\u001B[38;5;132;43;01m{\u001B[39;49;00m\u001B[38;5;28;43mself\u001B[39;49m\u001B[38;5;241;43m.\u001B[39;49m\u001B[43msubdir\u001B[49m\u001B[38;5;132;43;01m}\u001B[39;49;00m\u001B[38;5;124;43m/\u001B[39;49m\u001B[38;5;132;43;01m{\u001B[39;49;00m\u001B[43mzip_name\u001B[49m\u001B[38;5;132;43;01m}\u001B[39;49;00m\u001B[38;5;124;43m\"\u001B[39;49m\u001B[43m)\u001B[49m\n\u001B[0;32m     85\u001B[0m \u001B[38;5;28;01mexcept\u001B[39;00m \u001B[38;5;167;01mLookupError\u001B[39;00m:\n",
      "File \u001B[1;32mC:\\mini\\envs\\cl-43\\lib\\site-packages\\nltk\\data.py:583\u001B[0m, in \u001B[0;36mfind\u001B[1;34m(resource_name, paths)\u001B[0m\n\u001B[0;32m    582\u001B[0m resource_not_found \u001B[38;5;241m=\u001B[39m \u001B[38;5;124mf\u001B[39m\u001B[38;5;124m\"\u001B[39m\u001B[38;5;130;01m\\n\u001B[39;00m\u001B[38;5;132;01m{\u001B[39;00msep\u001B[38;5;132;01m}\u001B[39;00m\u001B[38;5;130;01m\\n\u001B[39;00m\u001B[38;5;132;01m{\u001B[39;00mmsg\u001B[38;5;132;01m}\u001B[39;00m\u001B[38;5;130;01m\\n\u001B[39;00m\u001B[38;5;132;01m{\u001B[39;00msep\u001B[38;5;132;01m}\u001B[39;00m\u001B[38;5;130;01m\\n\u001B[39;00m\u001B[38;5;124m\"\u001B[39m\n\u001B[1;32m--> 583\u001B[0m \u001B[38;5;28;01mraise\u001B[39;00m \u001B[38;5;167;01mLookupError\u001B[39;00m(resource_not_found)\n",
      "\u001B[1;31mLookupError\u001B[0m: \n**********************************************************************\n  Resource \u001B[93mgutenberg\u001B[0m not found.\n  Please use the NLTK Downloader to obtain the resource:\n\n  \u001B[31m>>> import nltk\n  >>> nltk.download('gutenberg')\n  \u001B[0m\n  For more information see: https://www.nltk.org/data.html\n\n  Attempted to load \u001B[93mcorpora/gutenberg.zip/gutenberg/\u001B[0m\n\n  Searched in:\n    - 'C:\\\\Users\\\\86182/nltk_data'\n    - 'C:\\\\mini\\\\envs\\\\cl-43\\\\nltk_data'\n    - 'C:\\\\mini\\\\envs\\\\cl-43\\\\share\\\\nltk_data'\n    - 'C:\\\\mini\\\\envs\\\\cl-43\\\\lib\\\\nltk_data'\n    - 'C:\\\\Users\\\\86182\\\\AppData\\\\Roaming\\\\nltk_data'\n    - 'C:\\\\nltk_data'\n    - 'D:\\\\nltk_data'\n    - 'E:\\\\nltk_data'\n    - 'C:\\\\Users\\\\86182\\\\nltk_data'\n    - 'C:\\\\mini\\\\envs\\\\cl-43\\\\nltk_data'\n    - 'C:\\\\mini\\\\envs\\\\cl-43\\\\nltk_data'\n    - 'C:\\\\mini\\\\envs\\\\cl-43\\\\nltk_data'\n    - 'C:\\\\mini\\\\envs\\\\cl-43\\\\nltk_data'\n    - 'C:\\\\mini\\\\envs\\\\cl-43\\\\nltk_data'\n    - 'C:\\\\Users\\\\86182\\\\AppData\\\\Roaming\\\\nltk_data'\n    - 'C:\\\\Users\\\\86182\\\\AppData\\\\Roaming\\\\nltk_data'\n    - 'C:\\\\Users\\\\86182\\\\AppData\\\\Roaming\\\\nltk_data'\n    - 'C:\\\\Users\\\\86182\\\\AppData\\\\Roaming\\\\nltk_data'\n    - 'C:\\\\mini\\\\envs\\\\cl-43\\\\nltk_data'\n    - 'C:\\\\mini\\\\envs\\\\cl-43\\\\nltk_data'\n    - 'C:\\\\mini\\\\envs\\\\cl-43\\\\nltk_data'\n    - 'C:\\\\mini\\\\envs\\\\cl-43\\\\nltk_data'\n    - 'C:\\\\Users\\\\86182\\\\AppData\\\\Roaming\\\\nltk_data'\n    - 'C:\\\\mini\\\\envs\\\\cl-43\\\\nltk_data'\n    - 'C:\\\\学习\\\\python\\\\python-teamwork\\nltk_data\\\\gutenberg'\n    - 'C:\\\\学习\\\\python\\\\python-teamwork\\nltk_data'\n    - 'C:\\\\学习\\\\python\\\\python-teamwork\\nltk_data'\n**********************************************************************\n",
      "\nDuring handling of the above exception, another exception occurred:\n",
      "\u001B[1;31mLookupError\u001B[0m                               Traceback (most recent call last)",
      "Cell \u001B[1;32mIn[58], line 4\u001B[0m\n\u001B[0;32m      1\u001B[0m \u001B[38;5;28;01mfrom\u001B[39;00m \u001B[38;5;21;01mnltk\u001B[39;00m\u001B[38;5;21;01m.\u001B[39;00m\u001B[38;5;21;01mcorpus\u001B[39;00m \u001B[38;5;28;01mimport\u001B[39;00m gutenberg\n\u001B[0;32m      3\u001B[0m \u001B[38;5;66;03m# 获取文本\u001B[39;00m\n\u001B[1;32m----> 4\u001B[0m text \u001B[38;5;241m=\u001B[39m \u001B[43mgutenberg\u001B[49m\u001B[38;5;241;43m.\u001B[39;49m\u001B[43mraw\u001B[49m(\u001B[38;5;124m'\u001B[39m\u001B[38;5;124mshakespeare-hamlet.txt\u001B[39m\u001B[38;5;124m'\u001B[39m)\n\u001B[0;32m      5\u001B[0m \u001B[38;5;28mprint\u001B[39m(text[:\u001B[38;5;241m500\u001B[39m])\n",
      "File \u001B[1;32mC:\\mini\\envs\\cl-43\\lib\\site-packages\\nltk\\corpus\\util.py:121\u001B[0m, in \u001B[0;36mLazyCorpusLoader.__getattr__\u001B[1;34m(self, attr)\u001B[0m\n\u001B[0;32m    118\u001B[0m \u001B[38;5;28;01mif\u001B[39;00m attr \u001B[38;5;241m==\u001B[39m \u001B[38;5;124m\"\u001B[39m\u001B[38;5;124m__bases__\u001B[39m\u001B[38;5;124m\"\u001B[39m:\n\u001B[0;32m    119\u001B[0m     \u001B[38;5;28;01mraise\u001B[39;00m \u001B[38;5;167;01mAttributeError\u001B[39;00m(\u001B[38;5;124m\"\u001B[39m\u001B[38;5;124mLazyCorpusLoader object has no attribute \u001B[39m\u001B[38;5;124m'\u001B[39m\u001B[38;5;124m__bases__\u001B[39m\u001B[38;5;124m'\u001B[39m\u001B[38;5;124m\"\u001B[39m)\n\u001B[1;32m--> 121\u001B[0m \u001B[38;5;28;43mself\u001B[39;49m\u001B[38;5;241;43m.\u001B[39;49m\u001B[43m__load\u001B[49m\u001B[43m(\u001B[49m\u001B[43m)\u001B[49m\n\u001B[0;32m    122\u001B[0m \u001B[38;5;66;03m# This looks circular, but its not, since __load() changes our\u001B[39;00m\n\u001B[0;32m    123\u001B[0m \u001B[38;5;66;03m# __class__ to something new:\u001B[39;00m\n\u001B[0;32m    124\u001B[0m \u001B[38;5;28;01mreturn\u001B[39;00m \u001B[38;5;28mgetattr\u001B[39m(\u001B[38;5;28mself\u001B[39m, attr)\n",
      "File \u001B[1;32mC:\\mini\\envs\\cl-43\\lib\\site-packages\\nltk\\corpus\\util.py:86\u001B[0m, in \u001B[0;36mLazyCorpusLoader.__load\u001B[1;34m(self)\u001B[0m\n\u001B[0;32m     84\u001B[0m             root \u001B[38;5;241m=\u001B[39m nltk\u001B[38;5;241m.\u001B[39mdata\u001B[38;5;241m.\u001B[39mfind(\u001B[38;5;124mf\u001B[39m\u001B[38;5;124m\"\u001B[39m\u001B[38;5;132;01m{\u001B[39;00m\u001B[38;5;28mself\u001B[39m\u001B[38;5;241m.\u001B[39msubdir\u001B[38;5;132;01m}\u001B[39;00m\u001B[38;5;124m/\u001B[39m\u001B[38;5;132;01m{\u001B[39;00mzip_name\u001B[38;5;132;01m}\u001B[39;00m\u001B[38;5;124m\"\u001B[39m)\n\u001B[0;32m     85\u001B[0m         \u001B[38;5;28;01mexcept\u001B[39;00m \u001B[38;5;167;01mLookupError\u001B[39;00m:\n\u001B[1;32m---> 86\u001B[0m             \u001B[38;5;28;01mraise\u001B[39;00m e\n\u001B[0;32m     88\u001B[0m \u001B[38;5;66;03m# Load the corpus.\u001B[39;00m\n\u001B[0;32m     89\u001B[0m corpus \u001B[38;5;241m=\u001B[39m \u001B[38;5;28mself\u001B[39m\u001B[38;5;241m.\u001B[39m__reader_cls(root, \u001B[38;5;241m*\u001B[39m\u001B[38;5;28mself\u001B[39m\u001B[38;5;241m.\u001B[39m__args, \u001B[38;5;241m*\u001B[39m\u001B[38;5;241m*\u001B[39m\u001B[38;5;28mself\u001B[39m\u001B[38;5;241m.\u001B[39m__kwargs)\n",
      "File \u001B[1;32mC:\\mini\\envs\\cl-43\\lib\\site-packages\\nltk\\corpus\\util.py:81\u001B[0m, in \u001B[0;36mLazyCorpusLoader.__load\u001B[1;34m(self)\u001B[0m\n\u001B[0;32m     79\u001B[0m \u001B[38;5;28;01melse\u001B[39;00m:\n\u001B[0;32m     80\u001B[0m     \u001B[38;5;28;01mtry\u001B[39;00m:\n\u001B[1;32m---> 81\u001B[0m         root \u001B[38;5;241m=\u001B[39m \u001B[43mnltk\u001B[49m\u001B[38;5;241;43m.\u001B[39;49m\u001B[43mdata\u001B[49m\u001B[38;5;241;43m.\u001B[39;49m\u001B[43mfind\u001B[49m\u001B[43m(\u001B[49m\u001B[38;5;124;43mf\u001B[39;49m\u001B[38;5;124;43m\"\u001B[39;49m\u001B[38;5;132;43;01m{\u001B[39;49;00m\u001B[38;5;28;43mself\u001B[39;49m\u001B[38;5;241;43m.\u001B[39;49m\u001B[43msubdir\u001B[49m\u001B[38;5;132;43;01m}\u001B[39;49;00m\u001B[38;5;124;43m/\u001B[39;49m\u001B[38;5;132;43;01m{\u001B[39;49;00m\u001B[38;5;28;43mself\u001B[39;49m\u001B[38;5;241;43m.\u001B[39;49m\u001B[43m__name\u001B[49m\u001B[38;5;132;43;01m}\u001B[39;49;00m\u001B[38;5;124;43m\"\u001B[39;49m\u001B[43m)\u001B[49m\n\u001B[0;32m     82\u001B[0m     \u001B[38;5;28;01mexcept\u001B[39;00m \u001B[38;5;167;01mLookupError\u001B[39;00m \u001B[38;5;28;01mas\u001B[39;00m e:\n\u001B[0;32m     83\u001B[0m         \u001B[38;5;28;01mtry\u001B[39;00m:\n",
      "File \u001B[1;32mC:\\mini\\envs\\cl-43\\lib\\site-packages\\nltk\\data.py:583\u001B[0m, in \u001B[0;36mfind\u001B[1;34m(resource_name, paths)\u001B[0m\n\u001B[0;32m    581\u001B[0m sep \u001B[38;5;241m=\u001B[39m \u001B[38;5;124m\"\u001B[39m\u001B[38;5;124m*\u001B[39m\u001B[38;5;124m\"\u001B[39m \u001B[38;5;241m*\u001B[39m \u001B[38;5;241m70\u001B[39m\n\u001B[0;32m    582\u001B[0m resource_not_found \u001B[38;5;241m=\u001B[39m \u001B[38;5;124mf\u001B[39m\u001B[38;5;124m\"\u001B[39m\u001B[38;5;130;01m\\n\u001B[39;00m\u001B[38;5;132;01m{\u001B[39;00msep\u001B[38;5;132;01m}\u001B[39;00m\u001B[38;5;130;01m\\n\u001B[39;00m\u001B[38;5;132;01m{\u001B[39;00mmsg\u001B[38;5;132;01m}\u001B[39;00m\u001B[38;5;130;01m\\n\u001B[39;00m\u001B[38;5;132;01m{\u001B[39;00msep\u001B[38;5;132;01m}\u001B[39;00m\u001B[38;5;130;01m\\n\u001B[39;00m\u001B[38;5;124m\"\u001B[39m\n\u001B[1;32m--> 583\u001B[0m \u001B[38;5;28;01mraise\u001B[39;00m \u001B[38;5;167;01mLookupError\u001B[39;00m(resource_not_found)\n",
      "\u001B[1;31mLookupError\u001B[0m: \n**********************************************************************\n  Resource \u001B[93mgutenberg\u001B[0m not found.\n  Please use the NLTK Downloader to obtain the resource:\n\n  \u001B[31m>>> import nltk\n  >>> nltk.download('gutenberg')\n  \u001B[0m\n  For more information see: https://www.nltk.org/data.html\n\n  Attempted to load \u001B[93mcorpora/gutenberg\u001B[0m\n\n  Searched in:\n    - 'C:\\\\Users\\\\86182/nltk_data'\n    - 'C:\\\\mini\\\\envs\\\\cl-43\\\\nltk_data'\n    - 'C:\\\\mini\\\\envs\\\\cl-43\\\\share\\\\nltk_data'\n    - 'C:\\\\mini\\\\envs\\\\cl-43\\\\lib\\\\nltk_data'\n    - 'C:\\\\Users\\\\86182\\\\AppData\\\\Roaming\\\\nltk_data'\n    - 'C:\\\\nltk_data'\n    - 'D:\\\\nltk_data'\n    - 'E:\\\\nltk_data'\n    - 'C:\\\\Users\\\\86182\\\\nltk_data'\n    - 'C:\\\\mini\\\\envs\\\\cl-43\\\\nltk_data'\n    - 'C:\\\\mini\\\\envs\\\\cl-43\\\\nltk_data'\n    - 'C:\\\\mini\\\\envs\\\\cl-43\\\\nltk_data'\n    - 'C:\\\\mini\\\\envs\\\\cl-43\\\\nltk_data'\n    - 'C:\\\\mini\\\\envs\\\\cl-43\\\\nltk_data'\n    - 'C:\\\\Users\\\\86182\\\\AppData\\\\Roaming\\\\nltk_data'\n    - 'C:\\\\Users\\\\86182\\\\AppData\\\\Roaming\\\\nltk_data'\n    - 'C:\\\\Users\\\\86182\\\\AppData\\\\Roaming\\\\nltk_data'\n    - 'C:\\\\Users\\\\86182\\\\AppData\\\\Roaming\\\\nltk_data'\n    - 'C:\\\\mini\\\\envs\\\\cl-43\\\\nltk_data'\n    - 'C:\\\\mini\\\\envs\\\\cl-43\\\\nltk_data'\n    - 'C:\\\\mini\\\\envs\\\\cl-43\\\\nltk_data'\n    - 'C:\\\\mini\\\\envs\\\\cl-43\\\\nltk_data'\n    - 'C:\\\\Users\\\\86182\\\\AppData\\\\Roaming\\\\nltk_data'\n    - 'C:\\\\mini\\\\envs\\\\cl-43\\\\nltk_data'\n    - 'C:\\\\学习\\\\python\\\\python-teamwork\\nltk_data\\\\gutenberg'\n    - 'C:\\\\学习\\\\python\\\\python-teamwork\\nltk_data'\n    - 'C:\\\\学习\\\\python\\\\python-teamwork\\nltk_data'\n**********************************************************************\n"
     ]
    }
   ],
   "execution_count": 58
  },
  {
   "metadata": {},
   "cell_type": "markdown",
   "source": "测试用例",
   "id": "1825a9b817694b8a"
  },
  {
   "metadata": {},
   "cell_type": "code",
   "outputs": [],
   "execution_count": null,
   "source": "",
   "id": "739424ced3cc9ab1"
  },
  {
   "metadata": {},
   "cell_type": "markdown",
   "source": [
    "5. gutenberg\n",
    "\n",
    "gutenberg 是一个包含了古腾堡计划中的文本的语料库，包括了多种公共领域的文学作品。"
   ],
   "id": "fe4adf0a813d3cf5"
  },
  {
   "metadata": {
    "ExecuteTime": {
     "end_time": "2024-06-14T09:36:28.292230Z",
     "start_time": "2024-06-14T09:36:23.215746Z"
    }
   },
   "cell_type": "code",
   "source": [
    "import nltk\n",
    "nltk.download('gutenberg')\n"
   ],
   "id": "30d3d19576df2138",
   "outputs": [
    {
     "name": "stderr",
     "output_type": "stream",
     "text": [
      "[nltk_data] Downloading package gutenberg to\n",
      "[nltk_data]     C:\\Users\\86182\\AppData\\Roaming\\nltk_data...\n",
      "[nltk_data] Error downloading 'gutenberg' from\n",
      "[nltk_data]     <https://raw.githubusercontent.com/nltk/nltk_data/gh-\n",
      "[nltk_data]     pages/packages/corpora/gutenberg.zip>:   <urlopen\n",
      "[nltk_data]     error [Errno 2] No such file or directory>\n"
     ]
    },
    {
     "data": {
      "text/plain": [
       "False"
      ]
     },
     "execution_count": 60,
     "metadata": {},
     "output_type": "execute_result"
    }
   ],
   "execution_count": 60
  },
  {
   "metadata": {
    "ExecuteTime": {
     "end_time": "2024-06-14T09:35:55.371548Z",
     "start_time": "2024-06-14T09:35:55.302840Z"
    }
   },
   "cell_type": "code",
   "source": [
    "from nltk.corpus import gutenberg\n",
    "\n",
    "# 获取文本\n",
    "text = gutenberg.raw('shakespeare-hamlet.txt')\n",
    "print(text[:500])\n"
   ],
   "id": "4f00779dbc61d8a4",
   "outputs": [
    {
     "ename": "LookupError",
     "evalue": "\n**********************************************************************\n  Resource \u001B[93mgutenberg\u001B[0m not found.\n  Please use the NLTK Downloader to obtain the resource:\n\n  \u001B[31m>>> import nltk\n  >>> nltk.download('gutenberg')\n  \u001B[0m\n  For more information see: https://www.nltk.org/data.html\n\n  Attempted to load \u001B[93mcorpora/gutenberg\u001B[0m\n\n  Searched in:\n    - 'C:\\\\Users\\\\86182/nltk_data'\n    - 'C:\\\\mini\\\\envs\\\\cl-43\\\\nltk_data'\n    - 'C:\\\\mini\\\\envs\\\\cl-43\\\\share\\\\nltk_data'\n    - 'C:\\\\mini\\\\envs\\\\cl-43\\\\lib\\\\nltk_data'\n    - 'C:\\\\Users\\\\86182\\\\AppData\\\\Roaming\\\\nltk_data'\n    - 'C:\\\\nltk_data'\n    - 'D:\\\\nltk_data'\n    - 'E:\\\\nltk_data'\n    - 'C:\\\\Users\\\\86182\\\\nltk_data'\n    - 'C:\\\\mini\\\\envs\\\\cl-43\\\\nltk_data'\n    - 'C:\\\\mini\\\\envs\\\\cl-43\\\\nltk_data'\n    - 'C:\\\\mini\\\\envs\\\\cl-43\\\\nltk_data'\n    - 'C:\\\\mini\\\\envs\\\\cl-43\\\\nltk_data'\n    - 'C:\\\\mini\\\\envs\\\\cl-43\\\\nltk_data'\n    - 'C:\\\\Users\\\\86182\\\\AppData\\\\Roaming\\\\nltk_data'\n    - 'C:\\\\Users\\\\86182\\\\AppData\\\\Roaming\\\\nltk_data'\n    - 'C:\\\\Users\\\\86182\\\\AppData\\\\Roaming\\\\nltk_data'\n    - 'C:\\\\Users\\\\86182\\\\AppData\\\\Roaming\\\\nltk_data'\n    - 'C:\\\\mini\\\\envs\\\\cl-43\\\\nltk_data'\n    - 'C:\\\\mini\\\\envs\\\\cl-43\\\\nltk_data'\n    - 'C:\\\\mini\\\\envs\\\\cl-43\\\\nltk_data'\n    - 'C:\\\\mini\\\\envs\\\\cl-43\\\\nltk_data'\n    - 'C:\\\\Users\\\\86182\\\\AppData\\\\Roaming\\\\nltk_data'\n    - 'C:\\\\mini\\\\envs\\\\cl-43\\\\nltk_data'\n    - 'C:\\\\学习\\\\python\\\\python-teamwork\\nltk_data\\\\gutenberg'\n    - 'C:\\\\学习\\\\python\\\\python-teamwork\\nltk_data'\n    - 'C:\\\\学习\\\\python\\\\python-teamwork\\nltk_data'\n**********************************************************************\n",
     "output_type": "error",
     "traceback": [
      "\u001B[1;31m---------------------------------------------------------------------------\u001B[0m",
      "\u001B[1;31mLookupError\u001B[0m                               Traceback (most recent call last)",
      "File \u001B[1;32mC:\\mini\\envs\\cl-43\\lib\\site-packages\\nltk\\corpus\\util.py:84\u001B[0m, in \u001B[0;36mLazyCorpusLoader.__load\u001B[1;34m(self)\u001B[0m\n\u001B[0;32m     83\u001B[0m \u001B[38;5;28;01mtry\u001B[39;00m:\n\u001B[1;32m---> 84\u001B[0m     root \u001B[38;5;241m=\u001B[39m \u001B[43mnltk\u001B[49m\u001B[38;5;241;43m.\u001B[39;49m\u001B[43mdata\u001B[49m\u001B[38;5;241;43m.\u001B[39;49m\u001B[43mfind\u001B[49m\u001B[43m(\u001B[49m\u001B[38;5;124;43mf\u001B[39;49m\u001B[38;5;124;43m\"\u001B[39;49m\u001B[38;5;132;43;01m{\u001B[39;49;00m\u001B[38;5;28;43mself\u001B[39;49m\u001B[38;5;241;43m.\u001B[39;49m\u001B[43msubdir\u001B[49m\u001B[38;5;132;43;01m}\u001B[39;49;00m\u001B[38;5;124;43m/\u001B[39;49m\u001B[38;5;132;43;01m{\u001B[39;49;00m\u001B[43mzip_name\u001B[49m\u001B[38;5;132;43;01m}\u001B[39;49;00m\u001B[38;5;124;43m\"\u001B[39;49m\u001B[43m)\u001B[49m\n\u001B[0;32m     85\u001B[0m \u001B[38;5;28;01mexcept\u001B[39;00m \u001B[38;5;167;01mLookupError\u001B[39;00m:\n",
      "File \u001B[1;32mC:\\mini\\envs\\cl-43\\lib\\site-packages\\nltk\\data.py:583\u001B[0m, in \u001B[0;36mfind\u001B[1;34m(resource_name, paths)\u001B[0m\n\u001B[0;32m    582\u001B[0m resource_not_found \u001B[38;5;241m=\u001B[39m \u001B[38;5;124mf\u001B[39m\u001B[38;5;124m\"\u001B[39m\u001B[38;5;130;01m\\n\u001B[39;00m\u001B[38;5;132;01m{\u001B[39;00msep\u001B[38;5;132;01m}\u001B[39;00m\u001B[38;5;130;01m\\n\u001B[39;00m\u001B[38;5;132;01m{\u001B[39;00mmsg\u001B[38;5;132;01m}\u001B[39;00m\u001B[38;5;130;01m\\n\u001B[39;00m\u001B[38;5;132;01m{\u001B[39;00msep\u001B[38;5;132;01m}\u001B[39;00m\u001B[38;5;130;01m\\n\u001B[39;00m\u001B[38;5;124m\"\u001B[39m\n\u001B[1;32m--> 583\u001B[0m \u001B[38;5;28;01mraise\u001B[39;00m \u001B[38;5;167;01mLookupError\u001B[39;00m(resource_not_found)\n",
      "\u001B[1;31mLookupError\u001B[0m: \n**********************************************************************\n  Resource \u001B[93mgutenberg\u001B[0m not found.\n  Please use the NLTK Downloader to obtain the resource:\n\n  \u001B[31m>>> import nltk\n  >>> nltk.download('gutenberg')\n  \u001B[0m\n  For more information see: https://www.nltk.org/data.html\n\n  Attempted to load \u001B[93mcorpora/gutenberg.zip/gutenberg/\u001B[0m\n\n  Searched in:\n    - 'C:\\\\Users\\\\86182/nltk_data'\n    - 'C:\\\\mini\\\\envs\\\\cl-43\\\\nltk_data'\n    - 'C:\\\\mini\\\\envs\\\\cl-43\\\\share\\\\nltk_data'\n    - 'C:\\\\mini\\\\envs\\\\cl-43\\\\lib\\\\nltk_data'\n    - 'C:\\\\Users\\\\86182\\\\AppData\\\\Roaming\\\\nltk_data'\n    - 'C:\\\\nltk_data'\n    - 'D:\\\\nltk_data'\n    - 'E:\\\\nltk_data'\n    - 'C:\\\\Users\\\\86182\\\\nltk_data'\n    - 'C:\\\\mini\\\\envs\\\\cl-43\\\\nltk_data'\n    - 'C:\\\\mini\\\\envs\\\\cl-43\\\\nltk_data'\n    - 'C:\\\\mini\\\\envs\\\\cl-43\\\\nltk_data'\n    - 'C:\\\\mini\\\\envs\\\\cl-43\\\\nltk_data'\n    - 'C:\\\\mini\\\\envs\\\\cl-43\\\\nltk_data'\n    - 'C:\\\\Users\\\\86182\\\\AppData\\\\Roaming\\\\nltk_data'\n    - 'C:\\\\Users\\\\86182\\\\AppData\\\\Roaming\\\\nltk_data'\n    - 'C:\\\\Users\\\\86182\\\\AppData\\\\Roaming\\\\nltk_data'\n    - 'C:\\\\Users\\\\86182\\\\AppData\\\\Roaming\\\\nltk_data'\n    - 'C:\\\\mini\\\\envs\\\\cl-43\\\\nltk_data'\n    - 'C:\\\\mini\\\\envs\\\\cl-43\\\\nltk_data'\n    - 'C:\\\\mini\\\\envs\\\\cl-43\\\\nltk_data'\n    - 'C:\\\\mini\\\\envs\\\\cl-43\\\\nltk_data'\n    - 'C:\\\\Users\\\\86182\\\\AppData\\\\Roaming\\\\nltk_data'\n    - 'C:\\\\mini\\\\envs\\\\cl-43\\\\nltk_data'\n    - 'C:\\\\学习\\\\python\\\\python-teamwork\\nltk_data\\\\gutenberg'\n    - 'C:\\\\学习\\\\python\\\\python-teamwork\\nltk_data'\n    - 'C:\\\\学习\\\\python\\\\python-teamwork\\nltk_data'\n**********************************************************************\n",
      "\nDuring handling of the above exception, another exception occurred:\n",
      "\u001B[1;31mLookupError\u001B[0m                               Traceback (most recent call last)",
      "Cell \u001B[1;32mIn[59], line 4\u001B[0m\n\u001B[0;32m      1\u001B[0m \u001B[38;5;28;01mfrom\u001B[39;00m \u001B[38;5;21;01mnltk\u001B[39;00m\u001B[38;5;21;01m.\u001B[39;00m\u001B[38;5;21;01mcorpus\u001B[39;00m \u001B[38;5;28;01mimport\u001B[39;00m gutenberg\n\u001B[0;32m      3\u001B[0m \u001B[38;5;66;03m# 获取文本\u001B[39;00m\n\u001B[1;32m----> 4\u001B[0m text \u001B[38;5;241m=\u001B[39m \u001B[43mgutenberg\u001B[49m\u001B[38;5;241;43m.\u001B[39;49m\u001B[43mraw\u001B[49m(\u001B[38;5;124m'\u001B[39m\u001B[38;5;124mshakespeare-hamlet.txt\u001B[39m\u001B[38;5;124m'\u001B[39m)\n\u001B[0;32m      5\u001B[0m \u001B[38;5;28mprint\u001B[39m(text[:\u001B[38;5;241m500\u001B[39m])\n",
      "File \u001B[1;32mC:\\mini\\envs\\cl-43\\lib\\site-packages\\nltk\\corpus\\util.py:121\u001B[0m, in \u001B[0;36mLazyCorpusLoader.__getattr__\u001B[1;34m(self, attr)\u001B[0m\n\u001B[0;32m    118\u001B[0m \u001B[38;5;28;01mif\u001B[39;00m attr \u001B[38;5;241m==\u001B[39m \u001B[38;5;124m\"\u001B[39m\u001B[38;5;124m__bases__\u001B[39m\u001B[38;5;124m\"\u001B[39m:\n\u001B[0;32m    119\u001B[0m     \u001B[38;5;28;01mraise\u001B[39;00m \u001B[38;5;167;01mAttributeError\u001B[39;00m(\u001B[38;5;124m\"\u001B[39m\u001B[38;5;124mLazyCorpusLoader object has no attribute \u001B[39m\u001B[38;5;124m'\u001B[39m\u001B[38;5;124m__bases__\u001B[39m\u001B[38;5;124m'\u001B[39m\u001B[38;5;124m\"\u001B[39m)\n\u001B[1;32m--> 121\u001B[0m \u001B[38;5;28;43mself\u001B[39;49m\u001B[38;5;241;43m.\u001B[39;49m\u001B[43m__load\u001B[49m\u001B[43m(\u001B[49m\u001B[43m)\u001B[49m\n\u001B[0;32m    122\u001B[0m \u001B[38;5;66;03m# This looks circular, but its not, since __load() changes our\u001B[39;00m\n\u001B[0;32m    123\u001B[0m \u001B[38;5;66;03m# __class__ to something new:\u001B[39;00m\n\u001B[0;32m    124\u001B[0m \u001B[38;5;28;01mreturn\u001B[39;00m \u001B[38;5;28mgetattr\u001B[39m(\u001B[38;5;28mself\u001B[39m, attr)\n",
      "File \u001B[1;32mC:\\mini\\envs\\cl-43\\lib\\site-packages\\nltk\\corpus\\util.py:86\u001B[0m, in \u001B[0;36mLazyCorpusLoader.__load\u001B[1;34m(self)\u001B[0m\n\u001B[0;32m     84\u001B[0m             root \u001B[38;5;241m=\u001B[39m nltk\u001B[38;5;241m.\u001B[39mdata\u001B[38;5;241m.\u001B[39mfind(\u001B[38;5;124mf\u001B[39m\u001B[38;5;124m\"\u001B[39m\u001B[38;5;132;01m{\u001B[39;00m\u001B[38;5;28mself\u001B[39m\u001B[38;5;241m.\u001B[39msubdir\u001B[38;5;132;01m}\u001B[39;00m\u001B[38;5;124m/\u001B[39m\u001B[38;5;132;01m{\u001B[39;00mzip_name\u001B[38;5;132;01m}\u001B[39;00m\u001B[38;5;124m\"\u001B[39m)\n\u001B[0;32m     85\u001B[0m         \u001B[38;5;28;01mexcept\u001B[39;00m \u001B[38;5;167;01mLookupError\u001B[39;00m:\n\u001B[1;32m---> 86\u001B[0m             \u001B[38;5;28;01mraise\u001B[39;00m e\n\u001B[0;32m     88\u001B[0m \u001B[38;5;66;03m# Load the corpus.\u001B[39;00m\n\u001B[0;32m     89\u001B[0m corpus \u001B[38;5;241m=\u001B[39m \u001B[38;5;28mself\u001B[39m\u001B[38;5;241m.\u001B[39m__reader_cls(root, \u001B[38;5;241m*\u001B[39m\u001B[38;5;28mself\u001B[39m\u001B[38;5;241m.\u001B[39m__args, \u001B[38;5;241m*\u001B[39m\u001B[38;5;241m*\u001B[39m\u001B[38;5;28mself\u001B[39m\u001B[38;5;241m.\u001B[39m__kwargs)\n",
      "File \u001B[1;32mC:\\mini\\envs\\cl-43\\lib\\site-packages\\nltk\\corpus\\util.py:81\u001B[0m, in \u001B[0;36mLazyCorpusLoader.__load\u001B[1;34m(self)\u001B[0m\n\u001B[0;32m     79\u001B[0m \u001B[38;5;28;01melse\u001B[39;00m:\n\u001B[0;32m     80\u001B[0m     \u001B[38;5;28;01mtry\u001B[39;00m:\n\u001B[1;32m---> 81\u001B[0m         root \u001B[38;5;241m=\u001B[39m \u001B[43mnltk\u001B[49m\u001B[38;5;241;43m.\u001B[39;49m\u001B[43mdata\u001B[49m\u001B[38;5;241;43m.\u001B[39;49m\u001B[43mfind\u001B[49m\u001B[43m(\u001B[49m\u001B[38;5;124;43mf\u001B[39;49m\u001B[38;5;124;43m\"\u001B[39;49m\u001B[38;5;132;43;01m{\u001B[39;49;00m\u001B[38;5;28;43mself\u001B[39;49m\u001B[38;5;241;43m.\u001B[39;49m\u001B[43msubdir\u001B[49m\u001B[38;5;132;43;01m}\u001B[39;49;00m\u001B[38;5;124;43m/\u001B[39;49m\u001B[38;5;132;43;01m{\u001B[39;49;00m\u001B[38;5;28;43mself\u001B[39;49m\u001B[38;5;241;43m.\u001B[39;49m\u001B[43m__name\u001B[49m\u001B[38;5;132;43;01m}\u001B[39;49;00m\u001B[38;5;124;43m\"\u001B[39;49m\u001B[43m)\u001B[49m\n\u001B[0;32m     82\u001B[0m     \u001B[38;5;28;01mexcept\u001B[39;00m \u001B[38;5;167;01mLookupError\u001B[39;00m \u001B[38;5;28;01mas\u001B[39;00m e:\n\u001B[0;32m     83\u001B[0m         \u001B[38;5;28;01mtry\u001B[39;00m:\n",
      "File \u001B[1;32mC:\\mini\\envs\\cl-43\\lib\\site-packages\\nltk\\data.py:583\u001B[0m, in \u001B[0;36mfind\u001B[1;34m(resource_name, paths)\u001B[0m\n\u001B[0;32m    581\u001B[0m sep \u001B[38;5;241m=\u001B[39m \u001B[38;5;124m\"\u001B[39m\u001B[38;5;124m*\u001B[39m\u001B[38;5;124m\"\u001B[39m \u001B[38;5;241m*\u001B[39m \u001B[38;5;241m70\u001B[39m\n\u001B[0;32m    582\u001B[0m resource_not_found \u001B[38;5;241m=\u001B[39m \u001B[38;5;124mf\u001B[39m\u001B[38;5;124m\"\u001B[39m\u001B[38;5;130;01m\\n\u001B[39;00m\u001B[38;5;132;01m{\u001B[39;00msep\u001B[38;5;132;01m}\u001B[39;00m\u001B[38;5;130;01m\\n\u001B[39;00m\u001B[38;5;132;01m{\u001B[39;00mmsg\u001B[38;5;132;01m}\u001B[39;00m\u001B[38;5;130;01m\\n\u001B[39;00m\u001B[38;5;132;01m{\u001B[39;00msep\u001B[38;5;132;01m}\u001B[39;00m\u001B[38;5;130;01m\\n\u001B[39;00m\u001B[38;5;124m\"\u001B[39m\n\u001B[1;32m--> 583\u001B[0m \u001B[38;5;28;01mraise\u001B[39;00m \u001B[38;5;167;01mLookupError\u001B[39;00m(resource_not_found)\n",
      "\u001B[1;31mLookupError\u001B[0m: \n**********************************************************************\n  Resource \u001B[93mgutenberg\u001B[0m not found.\n  Please use the NLTK Downloader to obtain the resource:\n\n  \u001B[31m>>> import nltk\n  >>> nltk.download('gutenberg')\n  \u001B[0m\n  For more information see: https://www.nltk.org/data.html\n\n  Attempted to load \u001B[93mcorpora/gutenberg\u001B[0m\n\n  Searched in:\n    - 'C:\\\\Users\\\\86182/nltk_data'\n    - 'C:\\\\mini\\\\envs\\\\cl-43\\\\nltk_data'\n    - 'C:\\\\mini\\\\envs\\\\cl-43\\\\share\\\\nltk_data'\n    - 'C:\\\\mini\\\\envs\\\\cl-43\\\\lib\\\\nltk_data'\n    - 'C:\\\\Users\\\\86182\\\\AppData\\\\Roaming\\\\nltk_data'\n    - 'C:\\\\nltk_data'\n    - 'D:\\\\nltk_data'\n    - 'E:\\\\nltk_data'\n    - 'C:\\\\Users\\\\86182\\\\nltk_data'\n    - 'C:\\\\mini\\\\envs\\\\cl-43\\\\nltk_data'\n    - 'C:\\\\mini\\\\envs\\\\cl-43\\\\nltk_data'\n    - 'C:\\\\mini\\\\envs\\\\cl-43\\\\nltk_data'\n    - 'C:\\\\mini\\\\envs\\\\cl-43\\\\nltk_data'\n    - 'C:\\\\mini\\\\envs\\\\cl-43\\\\nltk_data'\n    - 'C:\\\\Users\\\\86182\\\\AppData\\\\Roaming\\\\nltk_data'\n    - 'C:\\\\Users\\\\86182\\\\AppData\\\\Roaming\\\\nltk_data'\n    - 'C:\\\\Users\\\\86182\\\\AppData\\\\Roaming\\\\nltk_data'\n    - 'C:\\\\Users\\\\86182\\\\AppData\\\\Roaming\\\\nltk_data'\n    - 'C:\\\\mini\\\\envs\\\\cl-43\\\\nltk_data'\n    - 'C:\\\\mini\\\\envs\\\\cl-43\\\\nltk_data'\n    - 'C:\\\\mini\\\\envs\\\\cl-43\\\\nltk_data'\n    - 'C:\\\\mini\\\\envs\\\\cl-43\\\\nltk_data'\n    - 'C:\\\\Users\\\\86182\\\\AppData\\\\Roaming\\\\nltk_data'\n    - 'C:\\\\mini\\\\envs\\\\cl-43\\\\nltk_data'\n    - 'C:\\\\学习\\\\python\\\\python-teamwork\\nltk_data\\\\gutenberg'\n    - 'C:\\\\学习\\\\python\\\\python-teamwork\\nltk_data'\n    - 'C:\\\\学习\\\\python\\\\python-teamwork\\nltk_data'\n**********************************************************************\n"
     ]
    }
   ],
   "execution_count": 59
  }
 ],
 "metadata": {
  "kernelspec": {
   "display_name": "Python 3",
   "language": "python",
   "name": "python3"
  },
  "language_info": {
   "codemirror_mode": {
    "name": "ipython",
    "version": 2
   },
   "file_extension": ".py",
   "mimetype": "text/x-python",
   "name": "python",
   "nbconvert_exporter": "python",
   "pygments_lexer": "ipython2",
   "version": "2.7.6"
  }
 },
 "nbformat": 4,
 "nbformat_minor": 5
}
