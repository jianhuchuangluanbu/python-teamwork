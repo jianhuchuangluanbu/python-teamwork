{
 "cells": [
  {
   "metadata": {},
   "cell_type": "markdown",
   "source": "第三部分",
   "id": "f20e9ab538ff2db7"
  },
  {
   "metadata": {},
   "cell_type": "markdown",
   "source": [
    "NLTK中的nltk.tokenize模块\n",
    "\n",
    "nltk.tokenize模块专门用于分词，即将文本拆分成单词、句子或其他标记的过程。"
   ],
   "id": "5e10f66825a3ef84"
  },
  {
   "metadata": {},
   "cell_type": "markdown",
   "source": [
    "1. word_tokenize\n",
    "\n",
    "word_tokenize函数可以将字符串分割成单词列表，分词的目的是将一段连续的文本分解为更小的单位，以便于后续的分析和处理。\n",
    "\n",
    "使用前需要先下载punkt模型\n",
    "\n",
    "Punkt模型是一个基于无监督学习的句子边界检测工具，专门用于句子分割"
   ],
   "id": "667718ad2fdb9f0f"
  },
  {
   "metadata": {},
   "cell_type": "markdown",
   "source": "",
   "id": "b9f8b320a021b9a6"
  },
  {
   "metadata": {
    "ExecuteTime": {
     "end_time": "2024-06-14T11:11:21.398164Z",
     "start_time": "2024-06-14T11:11:20.466915Z"
    }
   },
   "cell_type": "code",
   "source": [
    "import nltk\n",
    "from nltk.tokenize import word_tokenize\n",
    "nltk.download('punkt')"
   ],
   "id": "ba01513c9f0efbc9",
   "outputs": [
    {
     "name": "stderr",
     "output_type": "stream",
     "text": [
      "[nltk_data] Downloading package punkt to\n",
      "[nltk_data]     C:\\Users\\Honjoutx\\AppData\\Roaming\\nltk_data...\n",
      "[nltk_data]   Package punkt is already up-to-date!\n"
     ]
    },
    {
     "data": {
      "text/plain": [
       "True"
      ]
     },
     "execution_count": 1,
     "metadata": {},
     "output_type": "execute_result"
    }
   ],
   "execution_count": 1
  },
  {
   "metadata": {},
   "cell_type": "markdown",
   "source": "测试用例",
   "id": "3209c96be61d67e0"
  },
  {
   "metadata": {
    "ExecuteTime": {
     "end_time": "2024-06-14T11:11:52.912020Z",
     "start_time": "2024-06-14T11:11:52.908848Z"
    }
   },
   "cell_type": "code",
   "source": [
    "cases = [\n",
    "    {\n",
    "        \"text\": \"The international community must continue to pay close attention to the troubling human rights situation in the Democratic People’s Republic of Korea (DPRK) and find ways to revive dialogue with the Government, the UN Security Council heard on Wednesday. \"\n",
    "    },\n",
    "    {\n",
    "        \"text\": \"China and Russia opposed the meeting and called for a procedural vote by the 15 members, which was defeated. \"\n",
    "    },\n",
    "    {\n",
    "        \"text\": \"One consequence is that divided families are even more divided. No departures means no reunification with families abroad.\"\n",
    "    }\n",
    "]"
   ],
   "id": "7248357383c08f26",
   "outputs": [],
   "execution_count": 2
  },
  {
   "metadata": {
    "ExecuteTime": {
     "end_time": "2024-06-14T11:12:49.057257Z",
     "start_time": "2024-06-14T11:12:49.049543Z"
    }
   },
   "cell_type": "code",
   "source": [
    "for case in cases:\n",
    "    text = case[\"text\"]\n",
    "    result = word_tokenize(text)\n",
    "    print(result)"
   ],
   "id": "ab52b36a1b1d7cb0",
   "outputs": [
    {
     "name": "stdout",
     "output_type": "stream",
     "text": [
      "['The', 'international', 'community', 'must', 'continue', 'to', 'pay', 'close', 'attention', 'to', 'the', 'troubling', 'human', 'rights', 'situation', 'in', 'the', 'Democratic', 'People', '’', 's', 'Republic', 'of', 'Korea', '(', 'DPRK', ')', 'and', 'find', 'ways', 'to', 'revive', 'dialogue', 'with', 'the', 'Government', ',', 'the', 'UN', 'Security', 'Council', 'heard', 'on', 'Wednesday', '.']\n",
      "['China', 'and', 'Russia', 'opposed', 'the', 'meeting', 'and', 'called', 'for', 'a', 'procedural', 'vote', 'by', 'the', '15', 'members', ',', 'which', 'was', 'defeated', '.']\n",
      "['One', 'consequence', 'is', 'that', 'divided', 'families', 'are', 'even', 'more', 'divided', '.', 'No', 'departures', 'means', 'no', 'reunification', 'with', 'families', 'abroad', '.']\n"
     ]
    }
   ],
   "execution_count": 3
  },
  {
   "metadata": {},
   "cell_type": "markdown",
   "source": [
    "2. sent_tokenize\n",
    "\n",
    "sent_tokenize用于将文本分割成句子列表。句子分割的目的是将一段连续的文本分解为单独的句子，以便于后续的分析和处理。"
   ],
   "id": "5e34b7d60fc34126"
  },
  {
   "metadata": {
    "ExecuteTime": {
     "end_time": "2024-06-14T11:17:28.345137Z",
     "start_time": "2024-06-14T11:17:28.343203Z"
    }
   },
   "cell_type": "code",
   "source": "from nltk.tokenize import sent_tokenize",
   "id": "dee4404a5d0e1db0",
   "outputs": [],
   "execution_count": 4
  },
  {
   "metadata": {},
   "cell_type": "markdown",
   "source": "测试用例",
   "id": "ca49b5a27c15cfc3"
  },
  {
   "metadata": {
    "ExecuteTime": {
     "end_time": "2024-06-14T11:17:29.915576Z",
     "start_time": "2024-06-14T11:17:29.913191Z"
    }
   },
   "cell_type": "code",
   "source": [
    "cases = [\n",
    "    {\n",
    "        \"text\": \"The international community must continue to pay close attention to the troubling human rights situation in the Democratic People’s Republic of Korea (DPRK) and find ways to revive dialogue with the Government, the UN Security Council heard on Wednesday. \"\n",
    "    },\n",
    "    {\n",
    "        \"text\": \"Born to a leading family in the capital, Pyongyang, Mr. Kim was 19 when he left to study in Beijing in 2010. Using the internet, he said he learned about his homeland and “the horrific truth” previously hidden to him.\"\n",
    "    },\n",
    "    {\n",
    "        \"text\": \"He too welcomed the OECD figures announced on Wednesday and said there is now an opportunity to consider what the transition to renewable energy really means for SIDS. It amounts to economic transformation, he said.\"\n",
    "    }\n",
    "]\n"
   ],
   "id": "432cdf82468369a8",
   "outputs": [],
   "execution_count": 5
  },
  {
   "metadata": {
    "ExecuteTime": {
     "end_time": "2024-06-14T11:17:31.122505Z",
     "start_time": "2024-06-14T11:17:31.119522Z"
    }
   },
   "cell_type": "code",
   "source": [
    "for case in cases:\n",
    "    text = case[\"text\"]\n",
    "    result = sent_tokenize(text)\n",
    "    print(result)"
   ],
   "id": "4165e2144a63e76e",
   "outputs": [
    {
     "name": "stdout",
     "output_type": "stream",
     "text": [
      "['The international community must continue to pay close attention to the troubling human rights situation in the Democratic People’s Republic of Korea (DPRK) and find ways to revive dialogue with the Government, the UN Security Council heard on Wednesday.']\n",
      "['Born to a leading family in the capital, Pyongyang, Mr. Kim was 19 when he left to study in Beijing in 2010.', 'Using the internet, he said he learned about his homeland and “the horrific truth” previously hidden to him.']\n",
      "['He too welcomed the OECD figures announced on Wednesday and said there is now an opportunity to consider what the transition to renewable energy really means for SIDS.', 'It amounts to economic transformation, he said.']\n"
     ]
    }
   ],
   "execution_count": 6
  },
  {
   "metadata": {},
   "cell_type": "markdown",
   "source": [
    "3. RegexpTokenizer\n",
    "\n",
    "RegexpTokenizer用于基于正则表达式进行分词。与word_tokenize和sent_tokenize等函数不同，RegexpTokenizer允许用户使用自定义的正则表达式来定义分词规则，从而实现更灵活和精确的分词。"
   ],
   "id": "4ebcf20f5f7ced16"
  },
  {
   "metadata": {
    "ExecuteTime": {
     "end_time": "2024-06-14T11:23:38.523918Z",
     "start_time": "2024-06-14T11:23:38.520954Z"
    }
   },
   "cell_type": "code",
   "source": "from nltk.tokenize import RegexpTokenizer",
   "id": "eeba9374f30a7c7d",
   "outputs": [],
   "execution_count": 9
  },
  {
   "metadata": {},
   "cell_type": "markdown",
   "source": "测试用例",
   "id": "ea9006ecc8202c6c"
  },
  {
   "metadata": {
    "ExecuteTime": {
     "end_time": "2024-06-14T11:23:32.725939Z",
     "start_time": "2024-06-14T11:23:32.722684Z"
    }
   },
   "cell_type": "code",
   "source": [
    "cases = [\n",
    "    {\n",
    "        \"text\": \"The international community must continue to pay close attention to the troubling human rights situation in the Democratic People’s Republic of Korea (DPRK) and find ways to revive dialogue with the Government, the UN Security Council heard on Wednesday. \"\n",
    "    },\n",
    "    {\n",
    "        \"text\": \"Born to a leading family in the capital, Pyongyang, Mr. Kim was 19 when he left to study in Beijing in 2010. Using the internet, he said he learned about his homeland and “the horrific truth” previously hidden to him.\"\n",
    "    },\n",
    "    {\n",
    "        \"text\": \"He too welcomed the OECD figures announced on Wednesday and said there is now an opportunity to consider what the transition to renewable energy really means for SIDS. It amounts to economic transformation, he said.\"\n",
    "    }\n",
    "]"
   ],
   "id": "6fdd4e4ffd83a4dc",
   "outputs": [],
   "execution_count": 7
  },
  {
   "metadata": {},
   "cell_type": "markdown",
   "source": "定义正则表达式，只保留单词",
   "id": "6639cd0f144aa6cf"
  },
  {
   "metadata": {
    "ExecuteTime": {
     "end_time": "2024-06-14T12:33:44.000099Z",
     "start_time": "2024-06-14T12:33:43.997992Z"
    }
   },
   "cell_type": "code",
   "source": "tokenizer = RegexpTokenizer(r'\\w+')",
   "id": "10a58cf42402cb6c",
   "outputs": [],
   "execution_count": 15
  },
  {
   "metadata": {
    "ExecuteTime": {
     "end_time": "2024-06-14T12:33:44.809091Z",
     "start_time": "2024-06-14T12:33:44.806438Z"
    }
   },
   "cell_type": "code",
   "source": [
    "for case in cases:\n",
    "    text = case[\"text\"]\n",
    "    tokens = tokenizer.tokenize(text)\n",
    "    print(tokens)"
   ],
   "id": "e1daf2c219b45da4",
   "outputs": [
    {
     "name": "stdout",
     "output_type": "stream",
     "text": [
      "['The', 'international', 'community', 'must', 'continue', 'to', 'pay', 'close', 'attention', 'to', 'the', 'troubling', 'human', 'rights', 'situation', 'in', 'the', 'Democratic', 'People', 's', 'Republic', 'of', 'Korea', 'DPRK', 'and', 'find', 'ways', 'to', 'revive', 'dialogue', 'with', 'the', 'Government', 'the', 'UN', 'Security', 'Council', 'heard', 'on', 'Wednesday']\n",
      "['Born', 'to', 'a', 'leading', 'family', 'in', 'the', 'capital', 'Pyongyang', 'Mr', 'Kim', 'was', '19', 'when', 'he', 'left', 'to', 'study', 'in', 'Beijing', 'in', '2010', 'Using', 'the', 'internet', 'he', 'said', 'he', 'learned', 'about', 'his', 'homeland', 'and', 'the', 'horrific', 'truth', 'previously', 'hidden', 'to', 'him']\n",
      "['He', 'too', 'welcomed', 'the', 'OECD', 'figures', 'announced', 'on', 'Wednesday', 'and', 'said', 'there', 'is', 'now', 'an', 'opportunity', 'to', 'consider', 'what', 'the', 'transition', 'to', 'renewable', 'energy', 'really', 'means', 'for', 'SIDS', 'It', 'amounts', 'to', 'economic', 'transformation', 'he', 'said']\n"
     ]
    }
   ],
   "execution_count": 16
  },
  {
   "metadata": {},
   "cell_type": "markdown",
   "source": "定义正则表达式，保留单词和标点符号",
   "id": "bab333c847385aad"
  },
  {
   "metadata": {
    "ExecuteTime": {
     "end_time": "2024-06-14T12:33:46.336677Z",
     "start_time": "2024-06-14T12:33:46.334172Z"
    }
   },
   "cell_type": "code",
   "source": "tokenizer = RegexpTokenizer(r'\\w+|[^\\w\\s]')",
   "id": "61861423630f9854",
   "outputs": [],
   "execution_count": 17
  },
  {
   "metadata": {
    "ExecuteTime": {
     "end_time": "2024-06-14T12:33:47.028590Z",
     "start_time": "2024-06-14T12:33:47.025446Z"
    }
   },
   "cell_type": "code",
   "source": [
    "for case in cases:\n",
    "    text = case[\"text\"]\n",
    "    tokens = tokenizer.tokenize(text)\n",
    "    print(tokens)"
   ],
   "id": "b9788eb2bde6cb21",
   "outputs": [
    {
     "name": "stdout",
     "output_type": "stream",
     "text": [
      "['The', 'international', 'community', 'must', 'continue', 'to', 'pay', 'close', 'attention', 'to', 'the', 'troubling', 'human', 'rights', 'situation', 'in', 'the', 'Democratic', 'People', '’', 's', 'Republic', 'of', 'Korea', '(', 'DPRK', ')', 'and', 'find', 'ways', 'to', 'revive', 'dialogue', 'with', 'the', 'Government', ',', 'the', 'UN', 'Security', 'Council', 'heard', 'on', 'Wednesday', '.']\n",
      "['Born', 'to', 'a', 'leading', 'family', 'in', 'the', 'capital', ',', 'Pyongyang', ',', 'Mr', '.', 'Kim', 'was', '19', 'when', 'he', 'left', 'to', 'study', 'in', 'Beijing', 'in', '2010', '.', 'Using', 'the', 'internet', ',', 'he', 'said', 'he', 'learned', 'about', 'his', 'homeland', 'and', '“', 'the', 'horrific', 'truth', '”', 'previously', 'hidden', 'to', 'him', '.']\n",
      "['He', 'too', 'welcomed', 'the', 'OECD', 'figures', 'announced', 'on', 'Wednesday', 'and', 'said', 'there', 'is', 'now', 'an', 'opportunity', 'to', 'consider', 'what', 'the', 'transition', 'to', 'renewable', 'energy', 'really', 'means', 'for', 'SIDS', '.', 'It', 'amounts', 'to', 'economic', 'transformation', ',', 'he', 'said', '.']\n"
     ]
    }
   ],
   "execution_count": 18
  },
  {
   "metadata": {},
   "cell_type": "markdown",
   "source": [
    "4. TreebankWordTokenizer\n",
    "\n"
   ],
   "id": "70daf776939b1409"
  }
 ],
 "metadata": {
  "kernelspec": {
   "display_name": "Python 3",
   "language": "python",
   "name": "python3"
  },
  "language_info": {
   "codemirror_mode": {
    "name": "ipython",
    "version": 2
   },
   "file_extension": ".py",
   "mimetype": "text/x-python",
   "name": "python",
   "nbconvert_exporter": "python",
   "pygments_lexer": "ipython2",
   "version": "2.7.6"
  }
 },
 "nbformat": 4,
 "nbformat_minor": 5
}
