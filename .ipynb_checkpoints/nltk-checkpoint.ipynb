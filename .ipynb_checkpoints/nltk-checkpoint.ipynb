{
 "cells": [
  {
   "cell_type": "code",
   "execution_count": null,
   "id": "initial_id",
   "metadata": {
    "collapsed": true
   },
   "outputs": [],
   "source": [
    ""
   ]
  },
  {
   "metadata": {},
   "cell_type": "markdown",
   "source": "第二部分 ",
   "id": "a31abb6eb0d1c2ab"
  },
  {
   "metadata": {},
   "cell_type": "markdown",
   "source": [
    "介绍NLTK 中的 nltk.corpus 模块\n",
    "\n",
    "nltk.corpus 模块主要用于访问和处理各种语料库（corpora）。语料库是文本和语言数据的集合，用于语言学研究、开发和评估自然语言处理（NLP）系统。nltk.corpus 模块提供了许多常见语言资源的接口，使得开发者可以方便地获取和使用这些资源。\n"
   ],
   "id": "598e00ca69238196"
  },
  {
   "metadata": {},
   "cell_type": "code",
   "outputs": [],
   "execution_count": null,
   "source": [
    "1. stopwords\n",
    "\n",
    "stopwords 方法提供了常见的停用词列表，可以帮助在文本预处理阶段去除无意义的词语。"
   ],
   "id": "99d0e18f18a2788f"
  },
  {
   "metadata": {
    "ExecuteTime": {
     "end_time": "2024-06-14T08:46:00.522772Z",
     "start_time": "2024-06-14T08:45:58.638850Z"
    }
   },
   "cell_type": "code",
   "source": [
    "import nltk\n",
    "nltk.data.path.append('C:\\\\mini\\\\envs\\\\cl-43\\\\nltk_data')\n",
    "nltk.download('stopwords')"
   ],
   "id": "86c33b80ce0e6681",
   "outputs": [
    {
     "name": "stderr",
     "output_type": "stream",
     "text": [
      "[nltk_data] Downloading package stopwords to\n",
      "[nltk_data]     C:\\Users\\86182\\AppData\\Roaming\\nltk_data...\n",
      "[nltk_data]   Unzipping corpora\\stopwords.zip.\n"
     ]
    },
    {
     "data": {
      "text/plain": [
       "True"
      ]
     },
     "execution_count": 3,
     "metadata": {},
     "output_type": "execute_result"
    }
   ],
   "execution_count": 3
  },
  {
   "metadata": {
    "ExecuteTime": {
     "end_time": "2024-06-14T08:46:04.951608Z",
     "start_time": "2024-06-14T08:46:04.931597Z"
    }
   },
   "cell_type": "code",
   "source": [
    "import nltk\n",
    "from nltk.corpus import stopwords\n",
    "\n",
    "# 加载英语停用词\n",
    "stop_words = set(stopwords.words('english'))\n",
    "\n",
    "# 打印停用词列表\n",
    "print(stop_words)"
   ],
   "id": "bb40198cc63760b9",
   "outputs": [
    {
     "name": "stdout",
     "output_type": "stream",
     "text": [
      "{'s', \"shan't\", \"you've\", 'these', 'shouldn', \"shouldn't\", 'them', 'had', 'over', 'him', \"that'll\", 'i', 'up', 'yourselves', 'more', 'weren', 'how', 've', 'do', 'after', 'can', 'mightn', 'doing', 'down', \"couldn't\", 'where', 'mustn', \"weren't\", 'theirs', \"should've\", 'myself', 'didn', 'there', 'yourself', \"aren't\", \"didn't\", 'they', 'as', 'ours', 'off', 'don', 'most', 'is', 'me', 'during', 'before', 'from', 'won', 'herself', 'for', 'which', 'you', 'by', 'only', 'at', 't', \"you're\", 'few', 'all', \"hasn't\", 'their', 'then', 'been', 'our', 'very', 'have', 'ma', 'y', 'same', 'couldn', \"doesn't\", 'wasn', 'not', 'its', 'against', 'am', 'too', 'further', 'here', 'doesn', 'hers', 'should', 'ain', 'or', 'having', 'the', 'other', 'who', 'm', 'above', \"isn't\", 'until', 'under', 'about', 'does', 'were', 'isn', 'into', 'if', 'be', 'through', 'both', \"mustn't\", 'my', 'was', 'his', 'some', 'now', \"mightn't\", 'such', 'd', 'but', 'because', 'when', 'will', 'wouldn', 'an', 'this', 'ourselves', 'your', 'and', \"wasn't\", 'while', 're', 'that', 'her', 'being', 'a', 'we', 'she', 'hasn', 'did', 'those', 'll', 'any', 'once', 'nor', 'each', 'hadn', 'on', 'out', \"don't\", 'aren', 'between', 'haven', 'has', \"she's\", 'yours', \"you'll\", 'himself', 'it', 'why', 'so', 'needn', \"needn't\", \"hadn't\", 'of', 'what', 'with', 'to', 'own', 'shan', 'are', \"wouldn't\", 'no', 'again', 'than', \"won't\", 'in', 'itself', \"haven't\", 'themselves', 'just', 'whom', 'o', \"you'd\", \"it's\", 'below', 'he'}\n"
     ]
    }
   ],
   "execution_count": 4
  },
  {
   "metadata": {},
   "cell_type": "markdown",
   "source": "测试用例",
   "id": "bf9c4f283704f038"
  },
  {
   "metadata": {},
   "cell_type": "markdown",
   "source": "验证列表长度：",
   "id": "2fa1b39929c94198"
  },
  {
   "metadata": {
    "ExecuteTime": {
     "end_time": "2024-06-14T09:06:14.570156Z",
     "start_time": "2024-06-14T09:06:14.529596Z"
    }
   },
   "cell_type": "code",
   "source": "assert len(stop_words) > 100, \"Expected more than 100 stopwords\"",
   "id": "21759f5303369c6f",
   "outputs": [],
   "execution_count": 12
  },
  {
   "metadata": {},
   "cell_type": "markdown",
   "source": "验证是否包含常见的停用词：",
   "id": "6680c68b018aa042"
  },
  {
   "metadata": {
    "ExecuteTime": {
     "end_time": "2024-06-14T09:06:27.701365Z",
     "start_time": "2024-06-14T09:06:27.693308Z"
    }
   },
   "cell_type": "code",
   "source": [
    "assert 'is' in stop_words, \"'is' should be in stopwords\"\n",
    "assert 'from' in stop_words, \"'from' should be in stopwords\"\n"
   ],
   "id": "cdc4f0fa48f89820",
   "outputs": [],
   "execution_count": 14
  },
  {
   "metadata": {},
   "cell_type": "markdown",
   "source": "验证是否不包含罕见的词语：",
   "id": "278bdddd4fe2890e"
  },
  {
   "metadata": {
    "ExecuteTime": {
     "end_time": "2024-06-14T09:06:26.322913Z",
     "start_time": "2024-06-14T09:06:26.312779Z"
    }
   },
   "cell_type": "code",
   "source": "assert 'conundrum' not in stop_words, \"'conundrum' should not be in stopwords\"",
   "id": "7caad82e5fb0fd0",
   "outputs": [],
   "execution_count": 13
  },
  {
   "metadata": {},
   "cell_type": "markdown",
   "source": "",
   "id": "a86d8190924b2072"
  },
  {
   "metadata": {},
   "cell_type": "markdown",
   "source": [
    "2. wordnet\n",
    "\n",
    "wordnet 是一个英语词汇数据库，包含了大量的同义词集合（synsets）和词语之间的语义关系。"
   ],
   "id": "fcec5a780d7a2032"
  },
  {
   "metadata": {
    "ExecuteTime": {
     "end_time": "2024-06-14T10:18:15.849037Z",
     "start_time": "2024-06-14T10:18:15.839037Z"
    }
   },
   "cell_type": "code",
   "source": [
    "import nltk\n",
    "nltk.download('wordnet')\n"
   ],
   "id": "7d13d32b13015b31",
   "outputs": [
    {
     "name": "stderr",
     "output_type": "stream",
     "text": [
      "[nltk_data] Downloading package wordnet to\n",
      "[nltk_data]     C:\\Users\\86182\\AppData\\Roaming\\nltk_data...\n",
      "[nltk_data]   Package wordnet is already up-to-date!\n"
     ]
    },
    {
     "data": {
      "text/plain": [
       "True"
      ]
     },
     "execution_count": 16,
     "metadata": {},
     "output_type": "execute_result"
    }
   ],
   "execution_count": 16
  },
  {
   "metadata": {
    "ExecuteTime": {
     "end_time": "2024-06-14T10:16:07.072463Z",
     "start_time": "2024-06-14T10:16:07.062476Z"
    }
   },
   "cell_type": "code",
   "source": [
    "from nltk.corpus import wordnet\n",
    "\n",
    "# 查找单词的同义词集合\n",
    "synsets = wordnet.synsets('car')\n",
    "for synset in synsets:\n",
    "    print(synset.name(), ':', synset.definition())"
   ],
   "id": "7bf6d750ce50bdb2",
   "outputs": [
    {
     "name": "stdout",
     "output_type": "stream",
     "text": [
      "car.n.01 : a motor vehicle with four wheels; usually propelled by an internal combustion engine\n",
      "car.n.02 : a wheeled vehicle adapted to the rails of railroad\n",
      "car.n.03 : the compartment that is suspended from an airship and that carries personnel and the cargo and the power plant\n",
      "car.n.04 : where passengers ride up and down\n",
      "cable_car.n.01 : a conveyance for passengers or freight on a cable railway\n"
     ]
    }
   ],
   "execution_count": 9
  },
  {
   "metadata": {},
   "cell_type": "markdown",
   "source": "测试用例",
   "id": "d2ae5ed8202d5924"
  },
  {
   "metadata": {},
   "cell_type": "markdown",
   "source": "验证是否返回了正确的同义词集合：",
   "id": "72553172f0c493b4"
  },
  {
   "metadata": {
    "ExecuteTime": {
     "end_time": "2024-06-14T10:16:09.804502Z",
     "start_time": "2024-06-14T10:16:09.784497Z"
    }
   },
   "cell_type": "code",
   "source": "assert len(synsets) > 0, \"Expected at least one synset for 'car'\"\n",
   "id": "4b6ef887c2b32c02",
   "outputs": [],
   "execution_count": 10
  },
  {
   "metadata": {},
   "cell_type": "markdown",
   "source": "验证同义词集合的定义是否准确：",
   "id": "85d7a97cc3c3da50"
  },
  {
   "metadata": {
    "ExecuteTime": {
     "end_time": "2024-06-14T10:19:23.190536Z",
     "start_time": "2024-06-14T10:19:23.170536Z"
    }
   },
   "cell_type": "code",
   "source": "assert any('motorcar' in s.name() for s in synsets), \"'motorcar' should be in synsets\"\n",
   "id": "97c89ea697a3f872",
   "outputs": [
    {
     "ename": "AssertionError",
     "evalue": "'motorcar' should be in synsets",
     "output_type": "error",
     "traceback": [
      "\u001B[1;31m---------------------------------------------------------------------------\u001B[0m",
      "\u001B[1;31mAssertionError\u001B[0m                            Traceback (most recent call last)",
      "Cell \u001B[1;32mIn[19], line 1\u001B[0m\n\u001B[1;32m----> 1\u001B[0m \u001B[38;5;28;01massert\u001B[39;00m \u001B[38;5;28many\u001B[39m(\u001B[38;5;124m'\u001B[39m\u001B[38;5;124mmotorcar\u001B[39m\u001B[38;5;124m'\u001B[39m \u001B[38;5;129;01min\u001B[39;00m s\u001B[38;5;241m.\u001B[39mname() \u001B[38;5;28;01mfor\u001B[39;00m s \u001B[38;5;129;01min\u001B[39;00m synsets), \u001B[38;5;124m\"\u001B[39m\u001B[38;5;124m'\u001B[39m\u001B[38;5;124mmotorcar\u001B[39m\u001B[38;5;124m'\u001B[39m\u001B[38;5;124m should be in synsets\u001B[39m\u001B[38;5;124m\"\u001B[39m\n",
      "\u001B[1;31mAssertionError\u001B[0m: 'motorcar' should be in synsets"
     ]
    }
   ],
   "execution_count": 19
  },
  {
   "metadata": {},
   "cell_type": "markdown",
   "source": [
    "3. treebank\n",
    "\n",
    "treebank 是一个包含了已标注的英文句子语料库，用于训练和评估词性标注器和其他句法分析工具。"
   ],
   "id": "f50f785a285004b7"
  },
  {
   "metadata": {
    "ExecuteTime": {
     "end_time": "2024-06-14T09:25:02.004532Z",
     "start_time": "2024-06-14T09:24:59.821015Z"
    }
   },
   "cell_type": "code",
   "source": [
    "import nltk\n",
    "nltk.download('treebank')"
   ],
   "id": "4e933498de2fef90",
   "outputs": [
    {
     "name": "stderr",
     "output_type": "stream",
     "text": [
      "[nltk_data] Downloading package treebank to\n",
      "[nltk_data]     C:\\Users\\86182\\AppData\\Roaming\\nltk_data...\n",
      "[nltk_data]   Unzipping corpora\\treebank.zip.\n"
     ]
    },
    {
     "data": {
      "text/plain": [
       "True"
      ]
     },
     "execution_count": 41,
     "metadata": {},
     "output_type": "execute_result"
    }
   ],
   "execution_count": 41
  },
  {
   "metadata": {
    "ExecuteTime": {
     "end_time": "2024-06-14T09:25:04.611942Z",
     "start_time": "2024-06-14T09:25:04.551471Z"
    }
   },
   "cell_type": "code",
   "source": [
    "from nltk.corpus import treebank\n",
    "\n",
    "# 获取句子\n",
    "sentences = treebank.sents()\n",
    "print(sentences[0])"
   ],
   "id": "76484c6d890aa941",
   "outputs": [
    {
     "name": "stdout",
     "output_type": "stream",
     "text": [
      "['Pierre', 'Vinken', ',', '61', 'years', 'old', ',', 'will', 'join', 'the', 'board', 'as', 'a', 'nonexecutive', 'director', 'Nov.', '29', '.']\n"
     ]
    }
   ],
   "execution_count": 42
  },
  {
   "metadata": {},
   "cell_type": "markdown",
   "source": "测试用例",
   "id": "9034cb7024db10cd"
  },
  {
   "metadata": {},
   "cell_type": "markdown",
   "source": "验证是否成功加载了语料库中的句子：",
   "id": "237ca96879a44eee"
  },
  {
   "metadata": {
    "ExecuteTime": {
     "end_time": "2024-06-14T09:26:19.463696Z",
     "start_time": "2024-06-14T09:26:19.453696Z"
    }
   },
   "cell_type": "code",
   "source": "assert len(sentences) > 0, \"Expected sentences in treebank corpus\"\n",
   "id": "b11b168a6b1d88c3",
   "outputs": [],
   "execution_count": 43
  },
  {
   "metadata": {},
   "cell_type": "markdown",
   "source": "验证句子的格式是否正确：",
   "id": "ced4dec12b3626bd"
  },
  {
   "metadata": {
    "ExecuteTime": {
     "end_time": "2024-06-14T09:26:42.818602Z",
     "start_time": "2024-06-14T09:26:42.808591Z"
    }
   },
   "cell_type": "code",
   "source": "assert isinstance(sentences[0], list), \"Each sentence should be a list of tokens\"",
   "id": "19694da4467ce18e",
   "outputs": [],
   "execution_count": 44
  },
  {
   "metadata": {},
   "cell_type": "markdown",
   "source": [
    "4. brown\n",
    "\n",
    "brown 是一个经典的英语语料库，包含了不同类型的文本（新闻、社论、小说等）。"
   ],
   "id": "3de435131df13a93"
  },
  {
   "metadata": {
    "ExecuteTime": {
     "end_time": "2024-06-14T10:23:52.003666Z",
     "start_time": "2024-06-14T10:23:49.827994Z"
    }
   },
   "cell_type": "code",
   "source": [
    "import nltk\n",
    "nltk.download('brown')"
   ],
   "id": "486f7223d0134b65",
   "outputs": [
    {
     "name": "stderr",
     "output_type": "stream",
     "text": [
      "[nltk_data] Downloading package brown to\n",
      "[nltk_data]     C:\\Users\\86182\\AppData\\Roaming\\nltk_data...\n",
      "[nltk_data]   Unzipping corpora\\brown.zip.\n"
     ]
    },
    {
     "data": {
      "text/plain": [
       "True"
      ]
     },
     "execution_count": 33,
     "metadata": {},
     "output_type": "execute_result"
    }
   ],
   "execution_count": 33
  },
  {
   "metadata": {
    "ExecuteTime": {
     "end_time": "2024-06-14T10:23:54.438961Z",
     "start_time": "2024-06-14T10:23:54.418961Z"
    }
   },
   "cell_type": "code",
   "source": [
    "from nltk.corpus import brown\n",
    "\n",
    "# 获取文本类型和对应的文本\n",
    "genres = brown.categories()\n",
    "print(genres[:5])"
   ],
   "id": "50942caa7e5735fa",
   "outputs": [
    {
     "name": "stdout",
     "output_type": "stream",
     "text": [
      "['adventure', 'belles_lettres', 'editorial', 'fiction', 'government']\n"
     ]
    }
   ],
   "execution_count": 34
  },
  {
   "metadata": {},
   "cell_type": "markdown",
   "source": "测试用例",
   "id": "1825a9b817694b8a"
  },
  {
   "metadata": {},
   "cell_type": "markdown",
   "source": "验证是否成功加载了不同类型的文本：",
   "id": "86e9119a66678051"
  },
  {
   "metadata": {
    "ExecuteTime": {
     "end_time": "2024-06-14T10:24:04.247679Z",
     "start_time": "2024-06-14T10:24:04.237679Z"
    }
   },
   "cell_type": "code",
   "source": "assert len(genres) > 0, \"Expected genres in brown corpus\"\n",
   "id": "739424ced3cc9ab1",
   "outputs": [],
   "execution_count": 35
  },
  {
   "metadata": {},
   "cell_type": "markdown",
   "source": "验证每个类型是否包含了多个文本样本：",
   "id": "b871fdf5fa54a3ca"
  },
  {
   "metadata": {
    "ExecuteTime": {
     "end_time": "2024-06-14T10:24:17.411046Z",
     "start_time": "2024-06-14T10:24:17.391045Z"
    }
   },
   "cell_type": "code",
   "source": [
    "for genre in genres[:5]:\n",
    "    texts = brown.fileids(categories=genre)\n",
    "    assert len(texts) > 0, f\"Expected texts for genre: {genre}\"\n"
   ],
   "id": "bfb3e59eca99a330",
   "outputs": [],
   "execution_count": 36
  },
  {
   "metadata": {},
   "cell_type": "markdown",
   "source": [
    "5. gutenberg\n",
    "\n",
    "gutenberg 是一个包含了古腾堡计划中的文本的语料库，包括了多种公共领域的文学作品。"
   ],
   "id": "fe4adf0a813d3cf5"
  },
  {
   "metadata": {
    "ExecuteTime": {
     "end_time": "2024-06-14T10:22:22.589081Z",
     "start_time": "2024-06-14T10:22:22.559082Z"
    }
   },
   "cell_type": "code",
   "source": [
    "import nltk\n",
    "nltk.download('gutenberg')\n"
   ],
   "id": "30d3d19576df2138",
   "outputs": [
    {
     "name": "stderr",
     "output_type": "stream",
     "text": [
      "[nltk_data] Downloading package gutenberg to\n",
      "[nltk_data]     C:\\Users\\86182\\AppData\\Roaming\\nltk_data...\n",
      "[nltk_data]   Package gutenberg is already up-to-date!\n"
     ]
    },
    {
     "data": {
      "text/plain": [
       "True"
      ]
     },
     "execution_count": 29,
     "metadata": {},
     "output_type": "execute_result"
    }
   ],
   "execution_count": 29
  },
  {
   "metadata": {
    "ExecuteTime": {
     "end_time": "2024-06-14T10:22:16.360204Z",
     "start_time": "2024-06-14T10:22:16.350205Z"
    }
   },
   "cell_type": "code",
   "source": [
    "from nltk.corpus import gutenberg\n",
    "\n",
    "# 获取文本\n",
    "text = gutenberg.raw('shakespeare-hamlet.txt')\n",
    "print(text[:500])\n"
   ],
   "id": "4f00779dbc61d8a4",
   "outputs": [
    {
     "name": "stdout",
     "output_type": "stream",
     "text": [
      "[The Tragedie of Hamlet by William Shakespeare 1599]\n",
      "\n",
      "\n",
      "Actus Primus. Scoena Prima.\n",
      "\n",
      "Enter Barnardo and Francisco two Centinels.\n",
      "\n",
      "  Barnardo. Who's there?\n",
      "  Fran. Nay answer me: Stand & vnfold\n",
      "your selfe\n",
      "\n",
      "   Bar. Long liue the King\n",
      "\n",
      "   Fran. Barnardo?\n",
      "  Bar. He\n",
      "\n",
      "   Fran. You come most carefully vpon your houre\n",
      "\n",
      "   Bar. 'Tis now strook twelue, get thee to bed Francisco\n",
      "\n",
      "   Fran. For this releefe much thankes: 'Tis bitter cold,\n",
      "And I am sicke at heart\n",
      "\n",
      "   Barn. Haue you had quiet Guard?\n",
      "  Fran. Not\n"
     ]
    }
   ],
   "execution_count": 28
  },
  {
   "metadata": {},
   "cell_type": "markdown",
   "source": "验证是否成功加载了特定文本：",
   "id": "2aafbaec51a7abe9"
  },
  {
   "metadata": {
    "ExecuteTime": {
     "end_time": "2024-06-14T10:22:58.132391Z",
     "start_time": "2024-06-14T10:22:58.122396Z"
    }
   },
   "cell_type": "code",
   "source": "assert len(text) > 0, \"Expected text from gutenberg corpus\"\n",
   "id": "bbe3f7610acf63c0",
   "outputs": [],
   "execution_count": 31
  },
  {
   "metadata": {},
   "cell_type": "markdown",
   "source": "验证文本内容是否符合预期：",
   "id": "ff7d2336cac78ff2"
  },
  {
   "metadata": {
    "ExecuteTime": {
     "end_time": "2024-06-14T10:22:56.890577Z",
     "start_time": "2024-06-14T10:22:56.870560Z"
    }
   },
   "cell_type": "code",
   "source": "assert text.startswith('[') and text.endswith(']'), \"Expected Shakespeare's Hamlet text\"\n",
   "id": "247e80919dd8a6ad",
   "outputs": [
    {
     "ename": "AssertionError",
     "evalue": "Expected Shakespeare's Hamlet text",
     "output_type": "error",
     "traceback": [
      "\u001B[1;31m---------------------------------------------------------------------------\u001B[0m",
      "\u001B[1;31mAssertionError\u001B[0m                            Traceback (most recent call last)",
      "Cell \u001B[1;32mIn[30], line 1\u001B[0m\n\u001B[1;32m----> 1\u001B[0m \u001B[38;5;28;01massert\u001B[39;00m text\u001B[38;5;241m.\u001B[39mstartswith(\u001B[38;5;124m'\u001B[39m\u001B[38;5;124m[\u001B[39m\u001B[38;5;124m'\u001B[39m) \u001B[38;5;129;01mand\u001B[39;00m text\u001B[38;5;241m.\u001B[39mendswith(\u001B[38;5;124m'\u001B[39m\u001B[38;5;124m]\u001B[39m\u001B[38;5;124m'\u001B[39m), \u001B[38;5;124m\"\u001B[39m\u001B[38;5;124mExpected Shakespeare\u001B[39m\u001B[38;5;124m'\u001B[39m\u001B[38;5;124ms Hamlet text\u001B[39m\u001B[38;5;124m\"\u001B[39m\n",
      "\u001B[1;31mAssertionError\u001B[0m: Expected Shakespeare's Hamlet text"
     ]
    }
   ],
   "execution_count": 30
  },
  {
   "metadata": {},
   "cell_type": "markdown",
   "source": "第三部分",
   "id": "f20e9ab538ff2db7"
  },
  {
   "metadata": {},
   "cell_type": "markdown",
   "source": [
    "NLTK中的nltk.tokenize模块\n",
    "\n",
    "nltk.tokenize模块专门用于分词，即将文本拆分成单词、句子或其他标记的过程。"
   ],
   "id": "5e10f66825a3ef84"
  },
  {
   "metadata": {},
   "cell_type": "markdown",
   "source": [
    "1. word_tokenize\n",
    "\n",
    "word_tokenize函数可以将字符串分割成单词列表，分词的目的是将一段连续的文本分解为更小的单位，以便于后续的分析和处理。\n",
    "\n",
    "使用前需要先下载punkt模型\n",
    "\n",
    "Punkt模型是一个基于无监督学习的句子边界检测工具，专门用于句子分割"
   ],
   "id": "667718ad2fdb9f0f"
  },
  {
   "metadata": {},
   "cell_type": "markdown",
   "source": "",
   "id": "b9f8b320a021b9a6"
  },
  {
   "metadata": {
    "ExecuteTime": {
     "end_time": "2024-06-14T11:11:21.398164Z",
     "start_time": "2024-06-14T11:11:20.466915Z"
    }
   },
   "cell_type": "code",
   "source": [
    "import nltk\n",
    "from nltk.tokenize import word_tokenize\n",
    "nltk.download('punkt')"
   ],
   "id": "ba01513c9f0efbc9",
   "outputs": [
    {
     "name": "stderr",
     "output_type": "stream",
     "text": [
      "[nltk_data] Downloading package punkt to\n",
      "[nltk_data]     C:\\Users\\Honjoutx\\AppData\\Roaming\\nltk_data...\n",
      "[nltk_data]   Package punkt is already up-to-date!\n"
     ]
    },
    {
     "data": {
      "text/plain": [
       "True"
      ]
     },
     "execution_count": 1,
     "metadata": {},
     "output_type": "execute_result"
    }
   ],
   "execution_count": 1
  },
  {
   "metadata": {},
   "cell_type": "markdown",
   "source": "测试用例",
   "id": "3209c96be61d67e0"
  },
  {
   "metadata": {
    "ExecuteTime": {
     "end_time": "2024-06-14T11:11:52.912020Z",
     "start_time": "2024-06-14T11:11:52.908848Z"
    }
   },
   "cell_type": "code",
   "source": [
    "cases = [\n",
    "    {\n",
    "        \"text\": \"The international community must continue to pay close attention to the troubling human rights situation in the Democratic People’s Republic of Korea (DPRK) and find ways to revive dialogue with the Government, the UN Security Council heard on Wednesday. \"\n",
    "    },\n",
    "    {\n",
    "        \"text\": \"China and Russia opposed the meeting and called for a procedural vote by the 15 members, which was defeated. \"\n",
    "    },\n",
    "    {\n",
    "        \"text\": \"One consequence is that divided families are even more divided. No departures means no reunification with families abroad.\"\n",
    "    }\n",
    "]"
   ],
   "id": "7248357383c08f26",
   "outputs": [],
   "execution_count": 2
  },
  {
   "metadata": {
    "ExecuteTime": {
     "end_time": "2024-06-14T11:12:49.057257Z",
     "start_time": "2024-06-14T11:12:49.049543Z"
    }
   },
   "cell_type": "code",
   "source": [
    "for case in cases:\n",
    "    text = case[\"text\"]\n",
    "    result = word_tokenize(text)\n",
    "    print(result)"
   ],
   "id": "ab52b36a1b1d7cb0",
   "outputs": [
    {
     "name": "stdout",
     "output_type": "stream",
     "text": [
      "['The', 'international', 'community', 'must', 'continue', 'to', 'pay', 'close', 'attention', 'to', 'the', 'troubling', 'human', 'rights', 'situation', 'in', 'the', 'Democratic', 'People', '’', 's', 'Republic', 'of', 'Korea', '(', 'DPRK', ')', 'and', 'find', 'ways', 'to', 'revive', 'dialogue', 'with', 'the', 'Government', ',', 'the', 'UN', 'Security', 'Council', 'heard', 'on', 'Wednesday', '.']\n",
      "['China', 'and', 'Russia', 'opposed', 'the', 'meeting', 'and', 'called', 'for', 'a', 'procedural', 'vote', 'by', 'the', '15', 'members', ',', 'which', 'was', 'defeated', '.']\n",
      "['One', 'consequence', 'is', 'that', 'divided', 'families', 'are', 'even', 'more', 'divided', '.', 'No', 'departures', 'means', 'no', 'reunification', 'with', 'families', 'abroad', '.']\n"
     ]
    }
   ],
   "execution_count": 3
  },
  {
   "metadata": {},
   "cell_type": "markdown",
   "source": [
    "2. sent_tokenize\n",
    "\n",
    "sent_tokenize用于将文本分割成句子列表。句子分割的目的是将一段连续的文本分解为单独的句子，以便于后续的分析和处理。"
   ],
   "id": "5e34b7d60fc34126"
  },
  {
   "metadata": {
    "ExecuteTime": {
     "end_time": "2024-06-14T11:17:28.345137Z",
     "start_time": "2024-06-14T11:17:28.343203Z"
    }
   },
   "cell_type": "code",
   "source": "from nltk.tokenize import sent_tokenize",
   "id": "dee4404a5d0e1db0",
   "outputs": [],
   "execution_count": 4
  },
  {
   "metadata": {},
   "cell_type": "markdown",
   "source": "测试用例",
   "id": "ca49b5a27c15cfc3"
  },
  {
   "metadata": {
    "ExecuteTime": {
     "end_time": "2024-06-14T11:17:29.915576Z",
     "start_time": "2024-06-14T11:17:29.913191Z"
    }
   },
   "cell_type": "code",
   "source": [
    "cases = [\n",
    "    {\n",
    "        \"text\": \"The international community must continue to pay close attention to the troubling human rights situation in the Democratic People’s Republic of Korea (DPRK) and find ways to revive dialogue with the Government, the UN Security Council heard on Wednesday. \"\n",
    "    },\n",
    "    {\n",
    "        \"text\": \"Born to a leading family in the capital, Pyongyang, Mr. Kim was 19 when he left to study in Beijing in 2010. Using the internet, he said he learned about his homeland and “the horrific truth” previously hidden to him.\"\n",
    "    },\n",
    "    {\n",
    "        \"text\": \"He too welcomed the OECD figures announced on Wednesday and said there is now an opportunity to consider what the transition to renewable energy really means for SIDS. It amounts to economic transformation, he said.\"\n",
    "    }\n",
    "]\n"
   ],
   "id": "432cdf82468369a8",
   "outputs": [],
   "execution_count": 5
  },
  {
   "metadata": {
    "ExecuteTime": {
     "end_time": "2024-06-14T11:17:31.122505Z",
     "start_time": "2024-06-14T11:17:31.119522Z"
    }
   },
   "cell_type": "code",
   "source": [
    "for case in cases:\n",
    "    text = case[\"text\"]\n",
    "    result = sent_tokenize(text)\n",
    "    print(result)"
   ],
   "id": "4165e2144a63e76e",
   "outputs": [
    {
     "name": "stdout",
     "output_type": "stream",
     "text": [
      "['The international community must continue to pay close attention to the troubling human rights situation in the Democratic People’s Republic of Korea (DPRK) and find ways to revive dialogue with the Government, the UN Security Council heard on Wednesday.']\n",
      "['Born to a leading family in the capital, Pyongyang, Mr. Kim was 19 when he left to study in Beijing in 2010.', 'Using the internet, he said he learned about his homeland and “the horrific truth” previously hidden to him.']\n",
      "['He too welcomed the OECD figures announced on Wednesday and said there is now an opportunity to consider what the transition to renewable energy really means for SIDS.', 'It amounts to economic transformation, he said.']\n"
     ]
    }
   ],
   "execution_count": 6
  },
  {
   "metadata": {},
   "cell_type": "markdown",
   "source": [
    "3. RegexpTokenizer\n",
    "\n",
    "RegexpTokenizer用于基于正则表达式进行分词。与word_tokenize和sent_tokenize等函数不同，RegexpTokenizer允许用户使用自定义的正则表达式来定义分词规则，从而实现更灵活和精确的分词。"
   ],
   "id": "4ebcf20f5f7ced16"
  },
  {
   "metadata": {
    "ExecuteTime": {
     "end_time": "2024-06-14T11:23:38.523918Z",
     "start_time": "2024-06-14T11:23:38.520954Z"
    }
   },
   "cell_type": "code",
   "source": "from nltk.tokenize import RegexpTokenizer",
   "id": "eeba9374f30a7c7d",
   "outputs": [],
   "execution_count": 9
  },
  {
   "metadata": {},
   "cell_type": "markdown",
   "source": "测试用例",
   "id": "ea9006ecc8202c6c"
  },
  {
   "metadata": {
    "ExecuteTime": {
     "end_time": "2024-06-14T11:23:32.725939Z",
     "start_time": "2024-06-14T11:23:32.722684Z"
    }
   },
   "cell_type": "code",
   "source": [
    "cases = [\n",
    "    {\n",
    "        \"text\": \"The international community must continue to pay close attention to the troubling human rights situation in the Democratic People’s Republic of Korea (DPRK) and find ways to revive dialogue with the Government, the UN Security Council heard on Wednesday. \"\n",
    "    },\n",
    "    {\n",
    "        \"text\": \"Born to a leading family in the capital, Pyongyang, Mr. Kim was 19 when he left to study in Beijing in 2010. Using the internet, he said he learned about his homeland and “the horrific truth” previously hidden to him.\"\n",
    "    },\n",
    "    {\n",
    "        \"text\": \"He too welcomed the OECD figures announced on Wednesday and said there is now an opportunity to consider what the transition to renewable energy really means for SIDS. It amounts to economic transformation, he said.\"\n",
    "    }\n",
    "]"
   ],
   "id": "6fdd4e4ffd83a4dc",
   "outputs": [],
   "execution_count": 7
  },
  {
   "metadata": {},
   "cell_type": "markdown",
   "source": "定义正则表达式，只保留单词",
   "id": "6639cd0f144aa6cf"
  },
  {
   "metadata": {
    "ExecuteTime": {
     "end_time": "2024-06-14T12:33:44.000099Z",
     "start_time": "2024-06-14T12:33:43.997992Z"
    }
   },
   "cell_type": "code",
   "source": "tokenizer = RegexpTokenizer(r'\\w+')",
   "id": "10a58cf42402cb6c",
   "outputs": [],
   "execution_count": 15
  },
  {
   "metadata": {
    "ExecuteTime": {
     "end_time": "2024-06-14T12:33:44.809091Z",
     "start_time": "2024-06-14T12:33:44.806438Z"
    }
   },
   "cell_type": "code",
   "source": [
    "for case in cases:\n",
    "    text = case[\"text\"]\n",
    "    tokens = tokenizer.tokenize(text)\n",
    "    print(tokens)"
   ],
   "id": "e1daf2c219b45da4",
   "outputs": [
    {
     "name": "stdout",
     "output_type": "stream",
     "text": [
      "['The', 'international', 'community', 'must', 'continue', 'to', 'pay', 'close', 'attention', 'to', 'the', 'troubling', 'human', 'rights', 'situation', 'in', 'the', 'Democratic', 'People', 's', 'Republic', 'of', 'Korea', 'DPRK', 'and', 'find', 'ways', 'to', 'revive', 'dialogue', 'with', 'the', 'Government', 'the', 'UN', 'Security', 'Council', 'heard', 'on', 'Wednesday']\n",
      "['Born', 'to', 'a', 'leading', 'family', 'in', 'the', 'capital', 'Pyongyang', 'Mr', 'Kim', 'was', '19', 'when', 'he', 'left', 'to', 'study', 'in', 'Beijing', 'in', '2010', 'Using', 'the', 'internet', 'he', 'said', 'he', 'learned', 'about', 'his', 'homeland', 'and', 'the', 'horrific', 'truth', 'previously', 'hidden', 'to', 'him']\n",
      "['He', 'too', 'welcomed', 'the', 'OECD', 'figures', 'announced', 'on', 'Wednesday', 'and', 'said', 'there', 'is', 'now', 'an', 'opportunity', 'to', 'consider', 'what', 'the', 'transition', 'to', 'renewable', 'energy', 'really', 'means', 'for', 'SIDS', 'It', 'amounts', 'to', 'economic', 'transformation', 'he', 'said']\n"
     ]
    }
   ],
   "execution_count": 16
  },
  {
   "metadata": {},
   "cell_type": "markdown",
   "source": "定义正则表达式，保留单词和标点符号",
   "id": "bab333c847385aad"
  },
  {
   "metadata": {
    "ExecuteTime": {
     "end_time": "2024-06-14T12:33:46.336677Z",
     "start_time": "2024-06-14T12:33:46.334172Z"
    }
   },
   "cell_type": "code",
   "source": "tokenizer = RegexpTokenizer(r'\\w+|[^\\w\\s]')",
   "id": "61861423630f9854",
   "outputs": [],
   "execution_count": 17
  },
  {
   "metadata": {
    "ExecuteTime": {
     "end_time": "2024-06-14T12:33:47.028590Z",
     "start_time": "2024-06-14T12:33:47.025446Z"
    }
   },
   "cell_type": "code",
   "source": [
    "for case in cases:\n",
    "    text = case[\"text\"]\n",
    "    tokens = tokenizer.tokenize(text)\n",
    "    print(tokens)"
   ],
   "id": "b9788eb2bde6cb21",
   "outputs": [
    {
     "name": "stdout",
     "output_type": "stream",
     "text": [
      "['The', 'international', 'community', 'must', 'continue', 'to', 'pay', 'close', 'attention', 'to', 'the', 'troubling', 'human', 'rights', 'situation', 'in', 'the', 'Democratic', 'People', '’', 's', 'Republic', 'of', 'Korea', '(', 'DPRK', ')', 'and', 'find', 'ways', 'to', 'revive', 'dialogue', 'with', 'the', 'Government', ',', 'the', 'UN', 'Security', 'Council', 'heard', 'on', 'Wednesday', '.']\n",
      "['Born', 'to', 'a', 'leading', 'family', 'in', 'the', 'capital', ',', 'Pyongyang', ',', 'Mr', '.', 'Kim', 'was', '19', 'when', 'he', 'left', 'to', 'study', 'in', 'Beijing', 'in', '2010', '.', 'Using', 'the', 'internet', ',', 'he', 'said', 'he', 'learned', 'about', 'his', 'homeland', 'and', '“', 'the', 'horrific', 'truth', '”', 'previously', 'hidden', 'to', 'him', '.']\n",
      "['He', 'too', 'welcomed', 'the', 'OECD', 'figures', 'announced', 'on', 'Wednesday', 'and', 'said', 'there', 'is', 'now', 'an', 'opportunity', 'to', 'consider', 'what', 'the', 'transition', 'to', 'renewable', 'energy', 'really', 'means', 'for', 'SIDS', '.', 'It', 'amounts', 'to', 'economic', 'transformation', ',', 'he', 'said', '.']\n"
     ]
    }
   ],
   "execution_count": 18
  }
 ],
 "metadata": {
  "kernelspec": {
   "display_name": "Python 3",
   "language": "python",
   "name": "python3"
  },
  "language_info": {
   "codemirror_mode": {
    "name": "ipython",
    "version": 2
   },
   "file_extension": ".py",
   "mimetype": "text/x-python",
   "name": "python",
   "nbconvert_exporter": "python",
   "pygments_lexer": "ipython2",
   "version": "2.7.6"
  }
 },
 "nbformat": 4,
 "nbformat_minor": 5
}
